{
 "cells": [
  {
   "cell_type": "code",
   "execution_count": 0,
   "metadata": {
    "application/vnd.databricks.v1+cell": {
     "cellMetadata": {
      "byteLimit": 2048000,
      "rowLimit": 10000
     },
     "inputWidgets": {},
     "nuid": "4b11ca6d-0e50-4dc9-a28c-f143ce75338f",
     "showTitle": false,
     "tableResultSettingsMap": {},
     "title": ""
    }
   },
   "outputs": [],
   "source": [
    "from pyspark.sql import SparkSession"
   ]
  },
  {
   "cell_type": "code",
   "execution_count": 0,
   "metadata": {
    "application/vnd.databricks.v1+cell": {
     "cellMetadata": {
      "byteLimit": 2048000,
      "rowLimit": 10000
     },
     "inputWidgets": {},
     "nuid": "90889ac4-fa44-4a85-b00a-273fc554cb00",
     "showTitle": false,
     "tableResultSettingsMap": {},
     "title": ""
    }
   },
   "outputs": [],
   "source": [
    "spark = SparkSession.builder.appName(\"PySpark Jobs\").getOrCreate()"
   ]
  },
  {
   "cell_type": "code",
   "execution_count": 0,
   "metadata": {
    "application/vnd.databricks.v1+cell": {
     "cellMetadata": {
      "byteLimit": 2048000,
      "rowLimit": 10000
     },
     "inputWidgets": {},
     "nuid": "e3d31361-bd5e-4f3a-9147-316484ef8c8a",
     "showTitle": false,
     "tableResultSettingsMap": {},
     "title": ""
    }
   },
   "outputs": [],
   "source": [
    "df = spark.read.csv(\"dbfs:/FileStore/tables/ProductSubcategory.csv\", header=True, inferSchema=True)\n",
    "\n",
    "# df.show()"
   ]
  },
  {
   "cell_type": "code",
   "execution_count": 0,
   "metadata": {
    "application/vnd.databricks.v1+cell": {
     "cellMetadata": {
      "byteLimit": 2048000,
      "rowLimit": 10000
     },
     "inputWidgets": {},
     "nuid": "6c9949c5-463d-4aff-ae75-9fb952548de7",
     "showTitle": false,
     "tableResultSettingsMap": {},
     "title": ""
    }
   },
   "outputs": [
    {
     "output_type": "stream",
     "name": "stdout",
     "output_type": "stream",
     "text": [
      "[1, 2, 3, 4, 5, 6, 7, 8]\n"
     ]
    }
   ],
   "source": [
    "data = []\n",
    "for i in range(1,9):\n",
    "    data.append(i)\n",
    "print(data)"
   ]
  },
  {
   "cell_type": "code",
   "execution_count": 0,
   "metadata": {
    "application/vnd.databricks.v1+cell": {
     "cellMetadata": {
      "byteLimit": 2048000,
      "rowLimit": 10000
     },
     "inputWidgets": {},
     "nuid": "81661262-bbc9-4667-98d8-041a38419e3b",
     "showTitle": false,
     "tableResultSettingsMap": {},
     "title": ""
    }
   },
   "outputs": [
    {
     "output_type": "execute_result",
     "data": {
      "text/plain": [
       "ParallelCollectionRDD[310] at readRDDFromInputStream at PythonRDD.scala:450"
      ]
     },
     "execution_count": 194,
     "metadata": {},
     "output_type": "execute_result"
    }
   ],
   "source": [
    "rdd = spark.sparkContext.parallelize(data)\n",
    "rdd"
   ]
  },
  {
   "cell_type": "code",
   "execution_count": 0,
   "metadata": {
    "application/vnd.databricks.v1+cell": {
     "cellMetadata": {
      "byteLimit": 2048000,
      "rowLimit": 10000
     },
     "inputWidgets": {},
     "nuid": "c8e6775a-f0b5-41a6-a907-4e2f80c39ae6",
     "showTitle": false,
     "tableResultSettingsMap": {},
     "title": ""
    }
   },
   "outputs": [
    {
     "output_type": "execute_result",
     "data": {
      "text/plain": [
       "dbfs:/FileStore/text.txt MapPartitionsRDD[312] at textFile at NativeMethodAccessorImpl.java:0"
      ]
     },
     "execution_count": 195,
     "metadata": {},
     "output_type": "execute_result"
    }
   ],
   "source": [
    "path = \"dbfs:/FileStore/text.txt\"\n",
    "\n",
    "rdd1 = spark.sparkContext.textFile(path)\n",
    "rdd1"
   ]
  },
  {
   "cell_type": "code",
   "execution_count": 0,
   "metadata": {
    "application/vnd.databricks.v1+cell": {
     "cellMetadata": {
      "byteLimit": 2048000,
      "rowLimit": 10000
     },
     "inputWidgets": {},
     "nuid": "30318b45-4755-4b68-a097-bcf39f8e4187",
     "showTitle": false,
     "tableResultSettingsMap": {},
     "title": ""
    }
   },
   "outputs": [
    {
     "output_type": "execute_result",
     "data": {
      "text/plain": [
       "[('dbfs:/FileStore/text.txt',\n",
       "  'Hello World!\\nThis is a text file.\\nMade on GNU/Linux\\n')]"
      ]
     },
     "execution_count": 196,
     "metadata": {},
     "output_type": "execute_result"
    }
   ],
   "source": [
    "rdd2 = spark.sparkContext.wholeTextFiles(path)\n",
    "rdd2.collect()"
   ]
  },
  {
   "cell_type": "code",
   "execution_count": 0,
   "metadata": {
    "application/vnd.databricks.v1+cell": {
     "cellMetadata": {
      "byteLimit": 2048000,
      "rowLimit": 10000
     },
     "inputWidgets": {},
     "nuid": "bc89fc20-98b6-4e77-bc61-dea88d46d8b5",
     "showTitle": false,
     "tableResultSettingsMap": {},
     "title": ""
    }
   },
   "outputs": [],
   "source": [
    "updated_text_path = \"dbfs:/FileStore/text1.txt\"\n",
    "# file not in DBFS"
   ]
  },
  {
   "cell_type": "code",
   "execution_count": 0,
   "metadata": {
    "application/vnd.databricks.v1+cell": {
     "cellMetadata": {
      "byteLimit": 2048000,
      "rowLimit": 10000
     },
     "inputWidgets": {},
     "nuid": "62e1e73b-3a76-4897-8dad-e36e534c2336",
     "showTitle": false,
     "tableResultSettingsMap": {},
     "title": ""
    }
   },
   "outputs": [
    {
     "output_type": "stream",
     "name": "stdout",
     "output_type": "stream",
     "text": [
      "My empty RRD is:  <bound method SparkContext.emptyRDD of <SparkContext master=local[8] appName=Databricks Shell>>\n"
     ]
    }
   ],
   "source": [
    "rdd3 = spark.sparkContext.emptyRDD\n",
    "print(\"My empty RRD is: \",rdd3)"
   ]
  },
  {
   "cell_type": "code",
   "execution_count": 0,
   "metadata": {
    "application/vnd.databricks.v1+cell": {
     "cellMetadata": {
      "byteLimit": 2048000,
      "rowLimit": 10000
     },
     "inputWidgets": {},
     "nuid": "4e65f49b-fd1a-4343-a2fb-198b0652c218",
     "showTitle": false,
     "tableResultSettingsMap": {},
     "title": ""
    }
   },
   "outputs": [
    {
     "output_type": "execute_result",
     "data": {
      "text/plain": [
       "[]"
      ]
     },
     "execution_count": 199,
     "metadata": {},
     "output_type": "execute_result"
    }
   ],
   "source": [
    "rdd4 = spark.sparkContext.parallelize([],4)\n",
    "rdd4.collect()"
   ]
  },
  {
   "cell_type": "code",
   "execution_count": 0,
   "metadata": {
    "application/vnd.databricks.v1+cell": {
     "cellMetadata": {
      "byteLimit": 2048000,
      "rowLimit": 10000
     },
     "inputWidgets": {},
     "nuid": "c8a96751-9a4c-47b3-90f1-09a3944266bd",
     "showTitle": false,
     "tableResultSettingsMap": {},
     "title": ""
    }
   },
   "outputs": [
    {
     "output_type": "stream",
     "name": "stdout",
     "output_type": "stream",
     "text": [
      "The number of partitions is 8\n"
     ]
    }
   ],
   "source": [
    "partition_num = rdd_grades.getNumPartitions()\n",
    "print(\"The number of partitions is\", partition_num)"
   ]
  },
  {
   "cell_type": "markdown",
   "metadata": {
    "application/vnd.databricks.v1+cell": {
     "cellMetadata": {
      "byteLimit": 2048000,
      "rowLimit": 10000
     },
     "inputWidgets": {},
     "nuid": "1aaff388-58ed-49e8-b495-4e148fe32c48",
     "showTitle": false,
     "tableResultSettingsMap": {},
     "title": ""
    }
   },
   "source": [
    "CREATE A LIST OF 5 TUPLES OF 5 STUDENTS AND GRADES THEN PARALLELISE THE RDD"
   ]
  },
  {
   "cell_type": "code",
   "execution_count": 0,
   "metadata": {
    "application/vnd.databricks.v1+cell": {
     "cellMetadata": {
      "byteLimit": 2048000,
      "rowLimit": 10000
     },
     "inputWidgets": {},
     "nuid": "6e23d411-bad9-4c5e-9f47-d417a7ba74bc",
     "showTitle": false,
     "tableResultSettingsMap": {},
     "title": ""
    }
   },
   "outputs": [
    {
     "output_type": "stream",
     "name": "stdout",
     "output_type": "stream",
     "text": [
      "[('Adam', 90), ('Ben', 40), ('Charlie', 30), ('Daniel', 20), ('Ella', 5)]\n"
     ]
    }
   ],
   "source": [
    "grades = [\n",
    "    (\"Adam\", 90), (\"Ben\", 40), (\"Charlie\", 30), (\"Daniel\", 20), (\"Ella\", 5)\n",
    "]\n",
    "\n",
    "rdd_grades = spark.sparkContext.parallelize(grades)\n",
    "print(rdd_grades.collect())"
   ]
  },
  {
   "cell_type": "code",
   "execution_count": 0,
   "metadata": {
    "application/vnd.databricks.v1+cell": {
     "cellMetadata": {
      "byteLimit": 2048000,
      "rowLimit": 10000
     },
     "inputWidgets": {},
     "nuid": "fb5ad90a-67e3-4b8b-8dbd-b0ca43fce5f4",
     "showTitle": false,
     "tableResultSettingsMap": {},
     "title": ""
    }
   },
   "outputs": [
    {
     "output_type": "execute_result",
     "data": {
      "text/plain": [
       "10"
      ]
     },
     "execution_count": 202,
     "metadata": {},
     "output_type": "execute_result"
    }
   ],
   "source": [
    "repart = rdd_grades.repartition(10)\n",
    "repart.getNumPartitions()\n"
   ]
  },
  {
   "cell_type": "code",
   "execution_count": 0,
   "metadata": {
    "application/vnd.databricks.v1+cell": {
     "cellMetadata": {
      "byteLimit": 2048000,
      "rowLimit": 10000
     },
     "inputWidgets": {},
     "nuid": "bf692b9b-7bdb-4027-a3d1-759addc44cec",
     "showTitle": false,
     "tableResultSettingsMap": {},
     "title": ""
    }
   },
   "outputs": [
    {
     "output_type": "execute_result",
     "data": {
      "text/plain": [
       "5"
      ]
     },
     "execution_count": 203,
     "metadata": {},
     "output_type": "execute_result"
    }
   ],
   "source": [
    "coal = rdd_grade.coalesce(5)\n",
    "coal.getNumPartitions()"
   ]
  },
  {
   "cell_type": "markdown",
   "metadata": {
    "application/vnd.databricks.v1+cell": {
     "cellMetadata": {
      "byteLimit": 2048000,
      "rowLimit": 10000
     },
     "inputWidgets": {},
     "nuid": "ca935eda-c13f-4c64-9e93-70d5e8ca5d45",
     "showTitle": false,
     "tableResultSettingsMap": {},
     "title": ""
    }
   },
   "source": [
    "BASIC TRANSFORMATION OPERATIONS"
   ]
  },
  {
   "cell_type": "code",
   "execution_count": 0,
   "metadata": {
    "application/vnd.databricks.v1+cell": {
     "cellMetadata": {
      "byteLimit": 2048000,
      "rowLimit": 10000
     },
     "inputWidgets": {},
     "nuid": "2da62537-f9de-447d-a107-4ba439857ddc",
     "showTitle": false,
     "tableResultSettingsMap": {},
     "title": ""
    }
   },
   "outputs": [
    {
     "output_type": "stream",
     "name": "stdout",
     "output_type": "stream",
     "text": [
      "Hello World!\nThis is a text file.\nMade on GNU/Linux\n"
     ]
    }
   ],
   "source": [
    "## FLATMAP FUNCTION\n",
    "path = \"dbfs:/FileStore/text.txt\"\n",
    "\n",
    "flatmap_rdd = spark.sparkContext.textFile(path)\n",
    "for i in flatmap_rdd.collect():\n",
    "  print(i)"
   ]
  },
  {
   "cell_type": "code",
   "execution_count": 0,
   "metadata": {
    "application/vnd.databricks.v1+cell": {
     "cellMetadata": {
      "byteLimit": 2048000,
      "rowLimit": 10000
     },
     "inputWidgets": {},
     "nuid": "16517139-729e-473b-95f8-58d28fa0fc3c",
     "showTitle": false,
     "tableResultSettingsMap": {},
     "title": ""
    }
   },
   "outputs": [
    {
     "output_type": "execute_result",
     "data": {
      "text/plain": [
       "['Hello',\n",
       " 'World!',\n",
       " 'This',\n",
       " 'is',\n",
       " 'a',\n",
       " 'text',\n",
       " 'file.',\n",
       " 'Made',\n",
       " 'on',\n",
       " 'GNU/Linux']"
      ]
     },
     "execution_count": 205,
     "metadata": {},
     "output_type": "execute_result"
    }
   ],
   "source": [
    "rdd5 = flatmap_rdd.flatMap(lambda x: x.split(' '))\n",
    "rdd5.collect()"
   ]
  },
  {
   "cell_type": "code",
   "execution_count": 0,
   "metadata": {
    "application/vnd.databricks.v1+cell": {
     "cellMetadata": {
      "byteLimit": 2048000,
      "rowLimit": 10000
     },
     "inputWidgets": {},
     "nuid": "0c1233a2-aa1e-4e9a-a013-0352f116ef9f",
     "showTitle": false,
     "tableResultSettingsMap": {},
     "title": ""
    }
   },
   "outputs": [
    {
     "output_type": "execute_result",
     "data": {
      "text/plain": [
       "['hello', 'guys', 'welcome', 'to', 'the', 'course']"
      ]
     },
     "execution_count": 206,
     "metadata": {},
     "output_type": "execute_result"
    }
   ],
   "source": [
    "strings = [\"hello guys\", \"welcome to the course\"]\n",
    "\n",
    "rdd_strings = spark.sparkContext.parallelize(strings)\n",
    "\n",
    "rdd_strings.flatMap(lambda x: x.split(' ')).collect()\n",
    "\n"
   ]
  },
  {
   "cell_type": "code",
   "execution_count": 0,
   "metadata": {
    "application/vnd.databricks.v1+cell": {
     "cellMetadata": {
      "byteLimit": 2048000,
      "rowLimit": 10000
     },
     "inputWidgets": {},
     "nuid": "f07f56fc-376b-4388-8093-b2d37ca16c87",
     "showTitle": false,
     "tableResultSettingsMap": {},
     "title": ""
    }
   },
   "outputs": [
    {
     "output_type": "execute_result",
     "data": {
      "text/plain": [
       "[['hello', 'guys'], ['welcome', 'to', 'the', 'course']]"
      ]
     },
     "execution_count": 207,
     "metadata": {},
     "output_type": "execute_result"
    }
   ],
   "source": [
    "strings = [\"hello guys\", \"welcome to the course\"]\n",
    "\n",
    "rdd_strings = spark.sparkContext.parallelize(strings)\n",
    "\n",
    "rdd_strings.map(lambda x: x.split(' ')).collect()\n",
    "\n"
   ]
  },
  {
   "cell_type": "code",
   "execution_count": 0,
   "metadata": {
    "application/vnd.databricks.v1+cell": {
     "cellMetadata": {
      "byteLimit": 2048000,
      "rowLimit": 10000
     },
     "inputWidgets": {},
     "nuid": "b421bd53-88fb-4deb-8f01-6e2c0dbe7206",
     "showTitle": false,
     "tableResultSettingsMap": {},
     "title": ""
    }
   },
   "outputs": [
    {
     "output_type": "execute_result",
     "data": {
      "text/plain": [
       "[('hello bye hello hello', 1), ('test test hello', 1), ('bye hello test', 1)]"
      ]
     },
     "execution_count": 263,
     "metadata": {},
     "output_type": "execute_result"
    }
   ],
   "source": [
    "# rdd_text = spark.sparkContext.textFile(\"dbfs:/FileStore/text_1.txt\")\n",
    "# rdd_text.map(lambda x: x.split(' '))\n",
    "# rdd_count = rdd_text.map(lambda x: (x,1))\n",
    "# rdd_count.collect()"
   ]
  },
  {
   "cell_type": "code",
   "execution_count": 0,
   "metadata": {
    "application/vnd.databricks.v1+cell": {
     "cellMetadata": {
      "byteLimit": 2048000,
      "rowLimit": 10000
     },
     "inputWidgets": {},
     "nuid": "b8a8e20b-100b-4f9f-a588-910838f94f57",
     "showTitle": false,
     "tableResultSettingsMap": {},
     "title": ""
    }
   },
   "outputs": [
    {
     "output_type": "execute_result",
     "data": {
      "text/plain": [
       "[('Hello', 1),\n",
       " ('World!', 1),\n",
       " ('This', 1),\n",
       " ('is', 1),\n",
       " ('a', 1),\n",
       " ('text', 1),\n",
       " ('file.', 1),\n",
       " ('Made', 1),\n",
       " ('on', 1),\n",
       " ('GNU/Linux', 1)]"
      ]
     },
     "execution_count": 287,
     "metadata": {},
     "output_type": "execute_result"
    }
   ],
   "source": [
    "rdd1.map(lambda x: x.split(' ')).collect()\n",
    "rdd_count = rdd5.map(lambda x: (x,1))\n",
    "rdd_count.collect()"
   ]
  },
  {
   "cell_type": "code",
   "execution_count": 0,
   "metadata": {
    "application/vnd.databricks.v1+cell": {
     "cellMetadata": {
      "byteLimit": 2048000,
      "rowLimit": 10000
     },
     "inputWidgets": {},
     "nuid": "fddf5489-60d8-47ba-aecd-eb844f7bcc89",
     "showTitle": false,
     "tableResultSettingsMap": {},
     "title": ""
    }
   },
   "outputs": [
    {
     "output_type": "display_data",
     "data": {
      "text/plain": [
       "\u001B[0;31m---------------------------------------------------------------------------\u001B[0m\n",
       "\u001B[0;31mAttributeError\u001B[0m                            Traceback (most recent call last)\n",
       "File \u001B[0;32m<command-3356855937769106>, line 1\u001B[0m\n",
       "\u001B[0;32m----> 1\u001B[0m rdd_count1\u001B[38;5;241m.\u001B[39mreduceByKey(\u001B[38;5;28;01mlambda\u001B[39;00m x,y: x\u001B[38;5;241m+\u001B[39my)\n",
       "\u001B[1;32m      2\u001B[0m rdd_count1\u001B[38;5;241m.\u001B[39mcollect()\n",
       "\n",
       "\u001B[0;31mAttributeError\u001B[0m: 'list' object has no attribute 'reduceByKey'"
      ]
     },
     "metadata": {
      "application/vnd.databricks.v1+output": {
       "addedWidgets": {},
       "arguments": {},
       "datasetInfos": [],
       "jupyterProps": {
        "ename": "AttributeError",
        "evalue": "'list' object has no attribute 'reduceByKey'"
       },
       "metadata": {
        "errorSummary": "<span class='ansi-red-fg'>AttributeError</span>: 'list' object has no attribute 'reduceByKey'"
       },
       "removedWidgets": [],
       "sqlProps": null,
       "stackFrames": [
        "\u001B[0;31m---------------------------------------------------------------------------\u001B[0m",
        "\u001B[0;31mAttributeError\u001B[0m                            Traceback (most recent call last)",
        "File \u001B[0;32m<command-3356855937769106>, line 1\u001B[0m\n\u001B[0;32m----> 1\u001B[0m rdd_count1\u001B[38;5;241m.\u001B[39mreduceByKey(\u001B[38;5;28;01mlambda\u001B[39;00m x,y: x\u001B[38;5;241m+\u001B[39my)\n\u001B[1;32m      2\u001B[0m rdd_count1\u001B[38;5;241m.\u001B[39mcollect()\n",
        "\u001B[0;31mAttributeError\u001B[0m: 'list' object has no attribute 'reduceByKey'"
       ],
       "type": "baseError"
      }
     },
     "output_type": "display_data"
    }
   ],
   "source": [
    "# rdd_count1.reduceByKey(lambda x,y: x+y)\n",
    "# rdd_count1.collect()"
   ]
  },
  {
   "cell_type": "code",
   "execution_count": 0,
   "metadata": {
    "application/vnd.databricks.v1+cell": {
     "cellMetadata": {
      "byteLimit": 2048000,
      "rowLimit": 10000
     },
     "inputWidgets": {},
     "nuid": "ffbd2ee3-576e-40dc-b21a-66b9ce4f7396",
     "showTitle": false,
     "tableResultSettingsMap": {},
     "title": ""
    }
   },
   "outputs": [
    {
     "output_type": "execute_result",
     "data": {
      "text/plain": [
       "[(1, 'Hello'),\n",
       " (1, 'World!'),\n",
       " (1, 'This'),\n",
       " (1, 'is'),\n",
       " (1, 'a'),\n",
       " (1, 'text'),\n",
       " (1, 'file.'),\n",
       " (1, 'Made'),\n",
       " (1, 'on'),\n",
       " (1, 'GNU/Linux')]"
      ]
     },
     "execution_count": 293,
     "metadata": {},
     "output_type": "execute_result"
    }
   ],
   "source": [
    "sort_value = rdd_count.map(lambda x: (x[1], x[0]))\n",
    "sort_value.collect()\n",
    "\n"
   ]
  },
  {
   "cell_type": "code",
   "execution_count": 0,
   "metadata": {
    "application/vnd.databricks.v1+cell": {
     "cellMetadata": {
      "byteLimit": 2048000,
      "rowLimit": 10000
     },
     "inputWidgets": {},
     "nuid": "03906112-82c6-4896-9a5f-291ccb47d4ad",
     "showTitle": false,
     "tableResultSettingsMap": {},
     "title": ""
    }
   },
   "outputs": [
    {
     "output_type": "execute_result",
     "data": {
      "text/plain": [
       "[(1, 'Hello'),\n",
       " (1, 'World!'),\n",
       " (1, 'This'),\n",
       " (1, 'is'),\n",
       " (1, 'a'),\n",
       " (1, 'text'),\n",
       " (1, 'file.'),\n",
       " (1, 'Made'),\n",
       " (1, 'on'),\n",
       " (1, 'GNU/Linux')]"
      ]
     },
     "execution_count": 235,
     "metadata": {},
     "output_type": "execute_result"
    }
   ],
   "source": [
    "sort_value.sortByKey().collect()"
   ]
  },
  {
   "cell_type": "code",
   "execution_count": 0,
   "metadata": {
    "application/vnd.databricks.v1+cell": {
     "cellMetadata": {
      "byteLimit": 2048000,
      "rowLimit": 10000
     },
     "inputWidgets": {},
     "nuid": "24420c45-80c8-4370-9fd0-3a47550dd11e",
     "showTitle": false,
     "tableResultSettingsMap": {},
     "title": ""
    }
   },
   "outputs": [
    {
     "output_type": "execute_result",
     "data": {
      "text/plain": [
       "[(1, 'Hello'),\n",
       " (1, 'World!'),\n",
       " (1, 'This'),\n",
       " (1, 'is'),\n",
       " (1, 'a'),\n",
       " (1, 'text'),\n",
       " (1, 'file.'),\n",
       " (1, 'Made'),\n",
       " (1, 'on'),\n",
       " (1, 'GNU/Linux')]"
      ]
     },
     "execution_count": 281,
     "metadata": {},
     "output_type": "execute_result"
    }
   ],
   "source": [
    "filter_rdd = sort_value.filter(lambda x: x[0]>=1)\n",
    "filter_rdd.collect()"
   ]
  },
  {
   "cell_type": "code",
   "execution_count": 0,
   "metadata": {
    "application/vnd.databricks.v1+cell": {
     "cellMetadata": {
      "byteLimit": 2048000,
      "rowLimit": 10000
     },
     "inputWidgets": {},
     "nuid": "fa2853b1-7c5e-46a1-9cae-6b21a91093a1",
     "showTitle": false,
     "tableResultSettingsMap": {},
     "title": ""
    }
   },
   "outputs": [
    {
     "output_type": "execute_result",
     "data": {
      "text/plain": [
       "[(1, 'HELLO'),\n",
       " (1, 'WORLD!'),\n",
       " (1, 'THIS'),\n",
       " (1, 'IS'),\n",
       " (1, 'A'),\n",
       " (1, 'TEXT'),\n",
       " (1, 'FILE.'),\n",
       " (1, 'MADE'),\n",
       " (1, 'ON'),\n",
       " (1, 'GNU/LINUX')]"
      ]
     },
     "execution_count": 295,
     "metadata": {},
     "output_type": "execute_result"
    }
   ],
   "source": [
    "filter_rdd = sort_value.map(lambda x: (x[0], x[1].upper()))\n",
    "filter_rdd.collect()"
   ]
  }
 ],
 "metadata": {
  "application/vnd.databricks.v1+notebook": {
   "computePreferences": null,
   "dashboards": [],
   "environmentMetadata": {
    "base_environment": "",
    "client": "1"
   },
   "language": "python",
   "notebookMetadata": {
    "pythonIndentUnit": 4
   },
   "notebookName": "Notebook-1",
   "widgets": {}
  }
 },
 "nbformat": 4,
 "nbformat_minor": 0
}
