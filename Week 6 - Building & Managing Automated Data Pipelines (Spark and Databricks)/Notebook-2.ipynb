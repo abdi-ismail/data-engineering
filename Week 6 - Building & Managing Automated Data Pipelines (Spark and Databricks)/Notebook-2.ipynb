{
 "cells": [
  {
   "cell_type": "code",
   "execution_count": 0,
   "metadata": {
    "application/vnd.databricks.v1+cell": {
     "cellMetadata": {
      "byteLimit": 2048000,
      "rowLimit": 10000
     },
     "inputWidgets": {},
     "nuid": "5340ebdd-5eac-4017-9870-2a9d87c61ef7",
     "showTitle": false,
     "tableResultSettingsMap": {},
     "title": ""
    }
   },
   "outputs": [],
   "source": [
    "from pyspark.sql import SparkSession"
   ]
  },
  {
   "cell_type": "code",
   "execution_count": 0,
   "metadata": {
    "application/vnd.databricks.v1+cell": {
     "cellMetadata": {
      "byteLimit": 2048000,
      "rowLimit": 10000
     },
     "inputWidgets": {},
     "nuid": "6a69bc01-a5bf-4c4d-b3d2-3aaeebcf2c1f",
     "showTitle": false,
     "tableResultSettingsMap": {},
     "title": ""
    }
   },
   "outputs": [],
   "source": [
    "spark = SparkSession.builder.appName(\"PySpark Jobs\").getOrCreate()"
   ]
  },
  {
   "cell_type": "code",
   "execution_count": 0,
   "metadata": {
    "application/vnd.databricks.v1+cell": {
     "cellMetadata": {
      "byteLimit": 2048000,
      "rowLimit": 10000
     },
     "inputWidgets": {},
     "nuid": "d06a626b-3794-4d2c-a00e-8d77bd60f4f3",
     "showTitle": false,
     "tableResultSettingsMap": {},
     "title": ""
    }
   },
   "outputs": [],
   "source": [
    "employee_data = [\n",
    "(1001, \"Oliver Smith\", \"Marketing\", 45000),\n",
    "(1002, \"Emma Jones\", \"Human Resources\", 52000),\n",
    "(1003, \"Harry Williams\", \"Finance\", 61000),\n",
    "(1004, \"Sophia Brown\", \"IT\", 58000),\n",
    "(1005, \"George Taylor\", \"Sales\", 49000),\n",
    "(1006, \"Isabella Davies\", \"Customer Service\", 41000),\n",
    "(1007, \"Charlie Evans\", \"Research\", 55000),\n",
    "(1008, \"Amelia Thomas\", \"Legal\", 68000),\n",
    "(1009, \"Jack Johnson\", \"Operations\", 53000),\n",
    "(1010, \"Ava Roberts\", \"Marketing\", 47000),\n",
    "(1011, \"Alfie Wilson\", \"Human Resources\", 50000),\n",
    "(1012, \"Isla Patel\", \"Finance\", 59000),\n",
    "(1013, \"Oscar Thompson\", \"IT\", 62000),\n",
    "(1014, \"Mia White\", \"Sales\", 51000),\n",
    "(1015, \"Max Hughes\", \"Customer Service\", 43000),\n",
    "(1016, \"Poppy Clarke\", \"Research\", 57000),\n",
    "(1017, \"Leo Walker\", \"Legal\", 70000),\n",
    "(1018, \"Evie Robinson\", \"Operations\", 54000),\n",
    "(1019, \"Archie Wright\", \"Marketing\", 46000),\n",
    "(1020, \"Freya Green\", \"Human Resources\", 51000),\n",
    "(1021, \"Theo Hall\", \"Finance\", 63000),\n",
    "(1022, \"Ella Wood\", \"IT\", 60000),\n",
    "(1023, \"Noah Harris\", \"Sales\", 52000),\n",
    "(1024, \"Rosie Martin\", \"Customer Service\", 42000),\n",
    "(1025, \"Arthur Jackson\", \"Research\", 56000),\n",
    "(1026, \"Florence Edwards\", \"Legal\", 69000),\n",
    "(1027, \"Freddie Lewis\", \"Operations\", 55000),\n",
    "(1028, \"Willow Morgan\", \"Marketing\", 48000),\n",
    "(1029, \"Henry Cook\", \"Human Resources\", 53000),\n",
    "(1030, \"Ivy Baker\", \"Finance\", \n",
    "|1006|Isabella Davies|Customer Service| 41000|\n",
    "|1007|  Charlie Evans|        Research| 55000|\n",
    "|1008|  Amelia Thomas|           Legal| 68000|62000)\n",
    "]"
   ]
  },
  {
   "cell_type": "code",
   "execution_count": 0,
   "metadata": {
    "application/vnd.databricks.v1+cell": {
     "cellMetadata": {
      "byteLimit": 2048000,
      "rowLimit": 10000
     },
     "inputWidgets": {},
     "nuid": "d5da318d-a9f7-47e6-8e22-7e68b6129020",
     "showTitle": false,
     "tableResultSettingsMap": {},
     "title": ""
    }
   },
   "outputs": [
    {
     "output_type": "execute_result",
     "data": {
      "text/plain": [
       "[(1001, 'Oliver Smith', 'Marketing', 45000),\n",
       " (1002, 'Emma Jones', 'Human Resources', 52000),\n",
       " (1003, 'Harry Williams', 'Finance', 61000),\n",
       " (1004, 'Sophia Brown', 'IT', 58000),\n",
       " (1005, 'George Taylor', 'Sales', 49000),\n",
       " (1006, 'Isabella Davies', 'Customer Service', 41000),\n",
       " (1007, 'Charlie Evans', 'Research', 55000),\n",
       " (1008, 'Amelia Thomas', 'Legal', 68000),\n",
       " (1009, 'Jack Johnson', 'Operations', 53000),\n",
       " (1010, 'Ava Roberts', 'Marketing', 47000),\n",
       " (1011, 'Alfie Wilson', 'Human Resources', 50000),\n",
       " (1012, 'Isla Patel', 'Finance', 59000),\n",
       " (1013, 'Oscar Thompson', 'IT', 62000),\n",
       " (1014, 'Mia White', 'Sales', 51000),\n",
       " (1015, 'Max Hughes', 'Customer Service', 43000),\n",
       " (1016, 'Poppy Clarke', 'Research', 57000),\n",
       " (1017, 'Leo Walker', 'Legal', 70000),\n",
       " (1018, 'Evie Robinson', 'Operations', 54000),\n",
       " (1019, 'Archie Wright', 'Marketing', 46000),\n",
       " (1020, 'Freya Green', 'Human Resources', 51000),\n",
       " (1021, 'Theo Hall', 'Finance', 63000),\n",
       " (1022, 'Ella Wood', 'IT', 60000),\n",
       " (1023, 'Noah Harris', 'Sales', 52000),\n",
       " (1024, 'Rosie Martin', 'Customer Service', 42000),\n",
       " (1025, 'Arthur Jackson', 'Research', 56000),\n",
       " (1026, 'Florence Edwards', 'Legal', 69000),\n",
       " (1027, 'Freddie Lewis', 'Operations', 55000),\n",
       " (1028, 'Willow Morgan', 'Marketing', 48000),\n",
       " (1029, 'Henry Cook', 'Human Resources', 53000),\n",
       " (1030, 'Ivy Baker', 'Finance', 62000)]"
      ]
     },
     "execution_count": 48,
     "metadata": {},
     "output_type": "execute_result"
    }
   ],
   "source": [
    "rdd = spark.sparkContext.parallelize(employee_data)\n",
    "rdd.collect()"
   ]
  },
  {
   "cell_type": "code",
   "execution_count": 0,
   "metadata": {
    "application/vnd.databricks.v1+cell": {
     "cellMetadata": {
      "byteLimit": 2048000,
      "rowLimit": 10000
     },
     "inputWidgets": {},
     "nuid": "fa2cb418-eca1-457c-aad9-181899b3ab04",
     "showTitle": false,
     "tableResultSettingsMap": {},
     "title": ""
    }
   },
   "outputs": [
    {
     "output_type": "stream",
     "name": "stdout",
     "output_type": "stream",
     "text": [
      "+----+---------------+----------------+-----+\n|  _1|             _2|              _3|   _4|\n+----+---------------+----------------+-----+\n|1001|   Oliver Smith|       Marketing|45000|\n|1002|     Emma Jones| Human Resources|52000|\n|1003| Harry Williams|         Finance|61000|\n|1004|   Sophia Brown|              IT|58000|\n|1005|  George Taylor|           Sales|49000|\n|1006|Isabella Davies|Customer Service|41000|\n|1007|  Charlie Evans|        Research|55000|\n|1008|  Amelia Thomas|           Legal|68000|\n|1009|   Jack Johnson|      Operations|53000|\n|1010|    Ava Roberts|       Marketing|47000|\n|1011|   Alfie Wilson| Human Resources|50000|\n|1012|     Isla Patel|         Finance|59000|\n|1013| Oscar Thompson|              IT|62000|\n|1014|      Mia White|           Sales|51000|\n|1015|     Max Hughes|Customer Service|43000|\n|1016|   Poppy Clarke|        Research|57000|\n|1017|     Leo Walker|           Legal|70000|\n|1018|  Evie Robinson|      Operations|54000|\n|1019|  Archie Wright|       Marketing|46000|\n|1020|    Freya Green| Human Resources|51000|\n+----+---------------+----------------+-----+\nonly showing top 20 rows\n\n"
     ]
    }
   ],
   "source": [
    "rdd_df = rdd.toDF()\n",
    "rdd_df.show()"
   ]
  },
  {
   "cell_type": "code",
   "execution_count": 0,
   "metadata": {
    "application/vnd.databricks.v1+cell": {
     "cellMetadata": {
      "byteLimit": 2048000,
      "rowLimit": 10000
     },
     "inputWidgets": {},
     "nuid": "56f52af6-fe84-4187-a5a0-75f20c93ea25",
     "showTitle": false,
     "tableResultSettingsMap": {},
     "title": ""
    }
   },
   "outputs": [
    {
     "output_type": "stream",
     "name": "stdout",
     "output_type": "stream",
     "text": [
      "+----+---------------+----------------+------+\n|  id|      full name|      department|salary|\n+----+---------------+----------------+------+\n|1001|   Oliver Smith|       Marketing| 45000|\n|1002|     Emma Jones| Human Resources| 52000|\n|1003| Harry Williams|         Finance| 61000|\n|1004|   Sophia Brown|              IT| 58000|\n|1005|  George Taylor|           Sales| 49000|\n|1006|Isabella Davies|Customer Service| 41000|\n|1007|  Charlie Evans|        Research| 55000|\n|1008|  Amelia Thomas|           Legal| 68000|\n|1009|   Jack Johnson|      Operations| 53000|\n|1010|    Ava Roberts|       Marketing| 47000|\n|1011|   Alfie Wilson| Human Resources| 50000|\n|1012|     Isla Patel|         Finance| 59000|\n|1013| Oscar Thompson|              IT| 62000|\n|1014|      Mia White|           Sales| 51000|\n|1015|     Max Hughes|Customer Service| 43000|\n|1016|   Poppy Clarke|        Research| 57000|\n|1017|     Leo Walker|           Legal| 70000|\n|1018|  Evie Robinson|      Operations| 54000|\n|1019|  Archie Wright|       Marketing| 46000|\n|1020|    Freya Green| Human Resources| 51000|\n+----+---------------+----------------+------+\nonly showing top 20 rows\n\n"
     ]
    }
   ],
   "source": [
    "columns = [\"id\", \"full name\", \"department\", \"salary\"]\n",
    "\n",
    "rdd2 = rdd.toDF(columns)\n",
    "rdd2.show()"
   ]
  }
 ],
 "metadata": {
  "application/vnd.databricks.v1+notebook": {
   "computePreferences": null,
   "dashboards": [],
   "environmentMetadata": {
    "base_environment": "",
    "client": "1"
   },
   "language": "python",
   "notebookMetadata": {
    "pythonIndentUnit": 4
   },
   "notebookName": "Notebook-2",
   "widgets": {}
  }
 },
 "nbformat": 4,
 "nbformat_minor": 0
}
