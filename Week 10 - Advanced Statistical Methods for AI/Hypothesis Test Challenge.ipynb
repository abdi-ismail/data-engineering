{
  "cells": [
    {
      "cell_type": "markdown",
      "metadata": {
        "id": "ziuQw551Q7z3"
      },
      "source": [
        "# **Hypothesis Test Challenge**\n",
        "- Test whether the performance metrics and latency times in the data are normally distributed.\n",
        "Use the Shapiro-Wilk test for normality.\n",
        "A p-value > 0.05 suggests that the data is normally distributed.\n",
        "**Don't forget to state your null hypothesis!*"
      ]
    },
    {
      "cell_type": "code",
      "execution_count": 4,
      "metadata": {
        "id": "THunISg9NG2m"
      },
      "outputs": [],
      "source": [
        "import pandas as pd\n",
        "import numpy as np\n",
        "import matplotlib.pyplot as plt\n",
        "import seaborn as sns\n",
        "import scipy.stats as stats\n"
      ]
    },
    {
      "cell_type": "code",
      "execution_count": 5,
      "metadata": {
        "id": "hePM1496NLhl"
      },
      "outputs": [],
      "source": [
        "# Load the dataset\n",
        "data = pd.DataFrame({\n",
        "    'Group_A_Performance': np.random.normal(loc=50, scale=10, size=300),\n",
        "    'Group_B_Performance': np.random.normal(loc=55, scale=10, size=300),\n",
        "    'Group_C_Latency': np.random.exponential(scale=10, size=300)\n",
        "})"
      ]
    },
    {
      "cell_type": "code",
      "execution_count": 6,
      "metadata": {},
      "outputs": [
        {
          "data": {
            "application/vnd.microsoft.datawrangler.viewer.v0+json": {
              "columns": [
                {
                  "name": "index",
                  "rawType": "int64",
                  "type": "integer"
                },
                {
                  "name": "Group_A_Performance",
                  "rawType": "float64",
                  "type": "float"
                },
                {
                  "name": "Group_B_Performance",
                  "rawType": "float64",
                  "type": "float"
                },
                {
                  "name": "Group_C_Latency",
                  "rawType": "float64",
                  "type": "float"
                }
              ],
              "conversionMethod": "pd.DataFrame",
              "ref": "d919f299-9d61-41ae-8899-a12eb28deb88",
              "rows": [
                [
                  "0",
                  "40.85400776883559",
                  "54.917821156934735",
                  "18.586983785320133"
                ],
                [
                  "1",
                  "63.270020234213575",
                  "57.95479557205255",
                  "5.894821930955887"
                ],
                [
                  "2",
                  "58.77659484915661",
                  "39.654630539226154",
                  "2.8164006061765656"
                ],
                [
                  "3",
                  "48.541255669224974",
                  "58.81768828626108",
                  "15.326473127627512"
                ],
                [
                  "4",
                  "52.352951035186905",
                  "73.67305853658287",
                  "3.629522901621722"
                ],
                [
                  "5",
                  "47.51568232545868",
                  "41.79510977690409",
                  "14.339818711997388"
                ],
                [
                  "6",
                  "41.91928557525138",
                  "65.06032802569224",
                  "0.6543289468201974"
                ],
                [
                  "7",
                  "48.92568178124088",
                  "45.399773486176414",
                  "18.359306254030486"
                ],
                [
                  "8",
                  "52.769794200484704",
                  "50.4046642845447",
                  "23.317172524107143"
                ],
                [
                  "9",
                  "50.28382256402922",
                  "47.81745794759072",
                  "36.93111142963256"
                ],
                [
                  "10",
                  "42.368228499911424",
                  "52.195815239487104",
                  "10.24088131378809"
                ],
                [
                  "11",
                  "46.803822578371665",
                  "61.3271235085644",
                  "4.401662279614224"
                ],
                [
                  "12",
                  "35.01821052062661",
                  "54.968833889468996",
                  "17.676622859977247"
                ],
                [
                  "13",
                  "60.80838291254838",
                  "54.95293039188007",
                  "9.811438405063411"
                ],
                [
                  "14",
                  "73.53734431149823",
                  "51.10692145875575",
                  "2.3647700159319904"
                ],
                [
                  "15",
                  "49.387814409827094",
                  "44.27767404152755",
                  "11.112935193654073"
                ],
                [
                  "16",
                  "67.83867460332945",
                  "50.99975732942561",
                  "4.246338029793375"
                ],
                [
                  "17",
                  "40.88681820973153",
                  "50.011429220692385",
                  "11.11569239159289"
                ],
                [
                  "18",
                  "45.302393206820994",
                  "52.88379396576743",
                  "12.739772888547712"
                ],
                [
                  "19",
                  "63.28308591716491",
                  "65.8389507066377",
                  "0.4618603015294497"
                ],
                [
                  "20",
                  "45.92966470174491",
                  "46.70745834808999",
                  "6.992642751210112"
                ],
                [
                  "21",
                  "46.98855118562036",
                  "61.5610953387079",
                  "1.1407283806771775"
                ],
                [
                  "22",
                  "61.45695698855837",
                  "45.166547133568486",
                  "4.7438465420850475"
                ],
                [
                  "23",
                  "70.65361366524047",
                  "56.83632523376273",
                  "24.151939768132067"
                ],
                [
                  "24",
                  "43.64098010835956",
                  "46.91904181869884",
                  "7.5811440979581715"
                ],
                [
                  "25",
                  "53.60589093483544",
                  "55.37755738044012",
                  "7.615062618358349"
                ],
                [
                  "26",
                  "51.37557957975539",
                  "56.84086507679153",
                  "3.4050351575940123"
                ],
                [
                  "27",
                  "46.42497709279366",
                  "48.34273590899627",
                  "34.47349794847767"
                ],
                [
                  "28",
                  "55.94328698263183",
                  "68.43680911601058",
                  "3.144867400567955"
                ],
                [
                  "29",
                  "57.88812580113841",
                  "73.85355926319089",
                  "17.641828019888482"
                ],
                [
                  "30",
                  "47.38477821490149",
                  "44.726417546207465",
                  "16.65326475354669"
                ],
                [
                  "31",
                  "62.79124704486536",
                  "67.91281809726712",
                  "1.439313341963711"
                ],
                [
                  "32",
                  "62.91976776965983",
                  "44.003025648416504",
                  "18.777207851232095"
                ],
                [
                  "33",
                  "76.35534582544858",
                  "32.79708106823911",
                  "2.226364784314096"
                ],
                [
                  "34",
                  "48.18068228398628",
                  "40.863540478340035",
                  "3.143905084493773"
                ],
                [
                  "35",
                  "62.5100909799485",
                  "43.69872220607826",
                  "8.966052153295932"
                ],
                [
                  "36",
                  "36.38852122587868",
                  "62.23966920081014",
                  "1.736070558640089"
                ],
                [
                  "37",
                  "47.722522712060105",
                  "64.68720253901152",
                  "23.165667758988064"
                ],
                [
                  "38",
                  "53.697115647220095",
                  "55.22571318950482",
                  "11.36181130701857"
                ],
                [
                  "39",
                  "35.560196274461276",
                  "49.39399396825543",
                  "10.041530399831801"
                ],
                [
                  "40",
                  "51.902715303088776",
                  "49.53785330826895",
                  "2.7951194555393624"
                ],
                [
                  "41",
                  "65.56120005264005",
                  "66.4978439036652",
                  "5.599523514365723"
                ],
                [
                  "42",
                  "39.280220322315024",
                  "56.191167982970605",
                  "0.31752100881576206"
                ],
                [
                  "43",
                  "49.608962570108375",
                  "60.234283555861026",
                  "59.43829755738018"
                ],
                [
                  "44",
                  "49.93343229226763",
                  "59.536387479998226",
                  "0.48102228920820755"
                ],
                [
                  "45",
                  "51.84192712236152",
                  "54.30738751039775",
                  "7.734741522593074"
                ],
                [
                  "46",
                  "45.73186063619838",
                  "40.303660702029006",
                  "17.71260937686483"
                ],
                [
                  "47",
                  "42.11617581658902",
                  "57.39508410612104",
                  "14.465462419367284"
                ],
                [
                  "48",
                  "57.89408486842274",
                  "56.76466168244286",
                  "34.66095885456451"
                ],
                [
                  "49",
                  "57.16806674095755",
                  "50.15244008300347",
                  "3.4390161286475003"
                ]
              ],
              "shape": {
                "columns": 3,
                "rows": 300
              }
            },
            "text/html": [
              "<div>\n",
              "<style scoped>\n",
              "    .dataframe tbody tr th:only-of-type {\n",
              "        vertical-align: middle;\n",
              "    }\n",
              "\n",
              "    .dataframe tbody tr th {\n",
              "        vertical-align: top;\n",
              "    }\n",
              "\n",
              "    .dataframe thead th {\n",
              "        text-align: right;\n",
              "    }\n",
              "</style>\n",
              "<table border=\"1\" class=\"dataframe\">\n",
              "  <thead>\n",
              "    <tr style=\"text-align: right;\">\n",
              "      <th></th>\n",
              "      <th>Group_A_Performance</th>\n",
              "      <th>Group_B_Performance</th>\n",
              "      <th>Group_C_Latency</th>\n",
              "    </tr>\n",
              "  </thead>\n",
              "  <tbody>\n",
              "    <tr>\n",
              "      <th>0</th>\n",
              "      <td>40.854008</td>\n",
              "      <td>54.917821</td>\n",
              "      <td>18.586984</td>\n",
              "    </tr>\n",
              "    <tr>\n",
              "      <th>1</th>\n",
              "      <td>63.270020</td>\n",
              "      <td>57.954796</td>\n",
              "      <td>5.894822</td>\n",
              "    </tr>\n",
              "    <tr>\n",
              "      <th>2</th>\n",
              "      <td>58.776595</td>\n",
              "      <td>39.654631</td>\n",
              "      <td>2.816401</td>\n",
              "    </tr>\n",
              "    <tr>\n",
              "      <th>3</th>\n",
              "      <td>48.541256</td>\n",
              "      <td>58.817688</td>\n",
              "      <td>15.326473</td>\n",
              "    </tr>\n",
              "    <tr>\n",
              "      <th>4</th>\n",
              "      <td>52.352951</td>\n",
              "      <td>73.673059</td>\n",
              "      <td>3.629523</td>\n",
              "    </tr>\n",
              "    <tr>\n",
              "      <th>...</th>\n",
              "      <td>...</td>\n",
              "      <td>...</td>\n",
              "      <td>...</td>\n",
              "    </tr>\n",
              "    <tr>\n",
              "      <th>295</th>\n",
              "      <td>58.908083</td>\n",
              "      <td>49.707489</td>\n",
              "      <td>3.341924</td>\n",
              "    </tr>\n",
              "    <tr>\n",
              "      <th>296</th>\n",
              "      <td>48.863704</td>\n",
              "      <td>68.084845</td>\n",
              "      <td>8.315321</td>\n",
              "    </tr>\n",
              "    <tr>\n",
              "      <th>297</th>\n",
              "      <td>46.276090</td>\n",
              "      <td>47.834625</td>\n",
              "      <td>2.089936</td>\n",
              "    </tr>\n",
              "    <tr>\n",
              "      <th>298</th>\n",
              "      <td>50.600755</td>\n",
              "      <td>55.276874</td>\n",
              "      <td>28.761212</td>\n",
              "    </tr>\n",
              "    <tr>\n",
              "      <th>299</th>\n",
              "      <td>66.198882</td>\n",
              "      <td>54.577799</td>\n",
              "      <td>11.095718</td>\n",
              "    </tr>\n",
              "  </tbody>\n",
              "</table>\n",
              "<p>300 rows × 3 columns</p>\n",
              "</div>"
            ],
            "text/plain": [
              "     Group_A_Performance  Group_B_Performance  Group_C_Latency\n",
              "0              40.854008            54.917821        18.586984\n",
              "1              63.270020            57.954796         5.894822\n",
              "2              58.776595            39.654631         2.816401\n",
              "3              48.541256            58.817688        15.326473\n",
              "4              52.352951            73.673059         3.629523\n",
              "..                   ...                  ...              ...\n",
              "295            58.908083            49.707489         3.341924\n",
              "296            48.863704            68.084845         8.315321\n",
              "297            46.276090            47.834625         2.089936\n",
              "298            50.600755            55.276874        28.761212\n",
              "299            66.198882            54.577799        11.095718\n",
              "\n",
              "[300 rows x 3 columns]"
            ]
          },
          "execution_count": 6,
          "metadata": {},
          "output_type": "execute_result"
        }
      ],
      "source": [
        "data"
      ]
    },
    {
      "cell_type": "markdown",
      "metadata": {
        "id": "0V7DQTLcQ4FZ"
      },
      "source": [
        "# 2. Test for Normality"
      ]
    },
    {
      "cell_type": "code",
      "execution_count": 7,
      "metadata": {
        "colab": {
          "base_uri": "https://localhost:8080/"
        },
        "id": "-vT6verTNx82",
        "outputId": "ef13a30b-2913-47fe-b1a4-344b5d150968"
      },
      "outputs": [
        {
          "name": "stdout",
          "output_type": "stream",
          "text": [
            "Group_A_Performance stat: 0.9956178945727613\n",
            " p: 0.5640640337606857\n",
            "\n",
            "Group_B_Performance stat: 0.992221319980503\n",
            " p: 0.11785878011351153\n",
            "\n",
            "Group_C_Latency stat: 0.8441907558818956\n",
            " p: 1.0063558727137856e-16\n",
            "\n"
          ]
        }
      ],
      "source": [
        "for column in data.columns:\n",
        "    # You fill in the rest!\n",
        "    shapiro_stat, shapiro_p = stats.shapiro(data[column])\n",
        "\n",
        "    print(column,f\"stat: {shapiro_stat}\\n\",\n",
        "      f\"p: {shapiro_p}\\n\")\n"
      ]
    },
    {
      "cell_type": "markdown",
      "metadata": {
        "id": "fjEQQAPfRTPj"
      },
      "source": [
        "# 3. Visualise Distributions"
      ]
    },
    {
      "cell_type": "code",
      "execution_count": 8,
      "metadata": {
        "colab": {
          "base_uri": "https://localhost:8080/",
          "height": 807
        },
        "id": "EfNA8uw0OVEf",
        "outputId": "23a1a10d-834f-470b-ee52-306e34aba224"
      },
      "outputs": [
        {
          "data": {
            "image/png": "[encoded data removed]",
            "text/plain": [
              "<Figure size 640x480 with 1 Axes>"
            ]
          },
          "metadata": {},
          "output_type": "display_data"
        }
      ],
      "source": [
        "# sns.kdeplot(data)\n",
        "sns.histplot(data, kde=True)\n",
        "plt.show()"
      ]
    },
    {
      "cell_type": "markdown",
      "metadata": {
        "id": "e5y-Wbs_RZZy"
      },
      "source": [
        "# 4. Hypothesis Testing\n",
        "\n",
        "*   Compare the means of Group A and Group B performance metrics using a two-sample\n",
        "*   Compare Group C latency with Group A performance using a Mann-Whitney U test."
      ]
    },
    {
      "cell_type": "code",
      "execution_count": 9,
      "metadata": {
        "colab": {
          "base_uri": "https://localhost:8080/"
        },
        "id": "NjdkbIepOXKU",
        "outputId": "5391ec81-e35b-4821-96de-b54918c988de"
      },
      "outputs": [
        {
          "name": "stdout",
          "output_type": "stream",
          "text": [
            "Group_A_Performance mean: 50.558849954367595\n",
            "\n",
            "Group_B_Performance mean: 55.0244458165077\n",
            "\n",
            "Group_C_Latency mean: 10.434748538149192\n",
            "\n"
          ]
        }
      ],
      "source": [
        "for column in data.columns:\n",
        "    # You fill in the rest!\n",
        "    mean = data[column].mean()\n",
        "    \n",
        "    print(column,f\"mean: {mean}\\n\")\n"
      ]
    },
    {
      "cell_type": "code",
      "execution_count": 10,
      "metadata": {
        "colab": {
          "base_uri": "https://localhost:8080/"
        },
        "id": "FEfxeZf4OZBX",
        "outputId": "f5f6d09a-8089-4d69-b720-92c627dbfeb0"
      },
      "outputs": [
        {
          "name": "stdout",
          "output_type": "stream",
          "text": [
            "ustat: 89136.0\n",
            " p: 5.516665180814726e-96\n",
            "\n"
          ]
        }
      ],
      "source": [
        "u_stat, p_value = stats.mannwhitneyu(data[\"Group_A_Performance\"], data[\"Group_C_Latency\"])\n",
        "print(f\"ustat: {u_stat}\\n\",\n",
        "      f\"p: {p_value}\\n\")"
      ]
    },
    {
      "cell_type": "code",
      "execution_count": 14,
      "metadata": {},
      "outputs": [
        {
          "name": "stdout",
          "output_type": "stream",
          "text": [
            "Result is statistically significant\n",
            "Reject the null hypothesis\n"
          ]
        }
      ],
      "source": [
        "if p_value <= 0.05:\n",
        "    print(\"Result is statistically significant\\nReject the null hypothesis\")\n",
        "else:\n",
        "    print(\"Result is not statistically significant\\nAccept the null hypothesis\")"
      ]
    },
    {
      "cell_type": "markdown",
      "metadata": {
        "id": "6qu-hoedRt-V"
      },
      "source": [
        "# 5. Visualise Comparisons\n",
        "\n",
        "- Create boxplots to compare distributions across groups.\n",
        "- Highlight differences visually to supplement the hypothesis test results.\n",
        "\n"
      ]
    },
    {
      "cell_type": "code",
      "execution_count": 51,
      "metadata": {
        "colab": {
          "base_uri": "https://localhost:8080/",
          "height": 651
        },
        "id": "KX5sXQOlOa7J",
        "outputId": "353be099-60ad-454a-c742-c49a11c097b8"
      },
      "outputs": [
        {
          "data": {
            "image/png": "[encoded data removed]",
            "text/plain": [
              "<Figure size 640x480 with 1 Axes>"
            ]
          },
          "metadata": {},
          "output_type": "display_data"
        }
      ],
      "source": [
        "plt.boxplot(data)\n",
        "plt.show()"
      ]
    },
    {
      "cell_type": "code",
      "execution_count": null,
      "metadata": {
        "id": "GLxavYvBQwKR"
      },
      "outputs": [],
      "source": []
    }
  ],
  "metadata": {
    "colab": {
      "provenance": []
    },
    "kernelspec": {
      "display_name": ".venv",
      "language": "python",
      "name": "python3"
    },
    "language_info": {
      "codemirror_mode": {
        "name": "ipython",
        "version": 3
      },
      "file_extension": ".py",
      "mimetype": "text/x-python",
      "name": "python",
      "nbconvert_exporter": "python",
      "pygments_lexer": "ipython3",
      "version": "3.11.0"
    }
  },
  "nbformat": 4,
  "nbformat_minor": 0
}
