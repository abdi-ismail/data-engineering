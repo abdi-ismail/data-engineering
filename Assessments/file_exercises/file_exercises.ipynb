{
 "cells": [
  {
   "cell_type": "markdown",
   "metadata": {},
   "source": [
    "**TEXT FILES EXERCISES**\n",
    "\n",
    "Exercise 1: Basic Text File Writing"
   ]
  },
  {
   "cell_type": "code",
   "execution_count": 1,
   "metadata": {},
   "outputs": [],
   "source": [
    "with open(\"my_new_file.txt\", \"w\") as outfile:\n",
    "    outfile.write(\"Hello World! \\nThis is a text file\")"
   ]
  },
  {
   "cell_type": "markdown",
   "metadata": {},
   "source": [
    "Exercise 2: Reading from a Text File"
   ]
  },
  {
   "cell_type": "code",
   "execution_count": 2,
   "metadata": {},
   "outputs": [
    {
     "name": "stdout",
     "output_type": "stream",
     "text": [
      "Hello World! \n",
      "This is a text file\n"
     ]
    }
   ],
   "source": [
    "with open(\"my_new_file.txt\", \"r\") as infile:\n",
    "    print(infile.read())"
   ]
  },
  {
   "cell_type": "markdown",
   "metadata": {},
   "source": [
    "Exercise 3: Appending to a Text File"
   ]
  },
  {
   "cell_type": "code",
   "execution_count": 4,
   "metadata": {},
   "outputs": [],
   "source": [
    "with open(\"my_new_file.txt\", \"a\") as afile:\n",
    "    afile.write(\"\\nThis line was appended using python\")"
   ]
  },
  {
   "cell_type": "markdown",
   "metadata": {},
   "source": [
    "Exercise 4: Line Counting"
   ]
  },
  {
   "cell_type": "code",
   "execution_count": 5,
   "metadata": {},
   "outputs": [
    {
     "name": "stdout",
     "output_type": "stream",
     "text": [
      "4\n"
     ]
    }
   ],
   "source": [
    "with open(\"my_new_file.txt\", \"r\") as outfile:\n",
    "    print(len(outfile.readlines()))"
   ]
  },
  {
   "cell_type": "markdown",
   "metadata": {},
   "source": [
    "**JSON FILE EXERCISES**\n",
    "\n",
    "Exercise 5: Writing to a JSON File"
   ]
  },
  {
   "cell_type": "code",
   "execution_count": 9,
   "metadata": {},
   "outputs": [],
   "source": [
    "cars = {\n",
    "    \"car1\": {\n",
    "    \"model\": \"corolla\",\n",
    "    \"manufacturer\": \"toyota\",\n",
    "    \"top_speed\": 220,\n",
    "    \"age\": 6,\n",
    "    \"sold\": False,\n",
    "    },\n",
    "}\n",
    "\n",
    "import json\n",
    "with open(\"cars.json\", \"w\") as afile:\n",
    "    json.dump(cars, afile)"
   ]
  },
  {
   "cell_type": "markdown",
   "metadata": {},
   "source": [
    "Exercise 6: Reading from a JSON File"
   ]
  },
  {
   "cell_type": "code",
   "execution_count": 11,
   "metadata": {},
   "outputs": [
    {
     "name": "stdout",
     "output_type": "stream",
     "text": [
      "corolla 220\n"
     ]
    }
   ],
   "source": [
    "with open(\"cars.json\", \"r\") as afile:\n",
    "    data = json.load(afile)\n",
    "    print(data[\"car1\"][\"model\"], data[\"car1\"][\"top_speed\"])"
   ]
  },
  {
   "cell_type": "markdown",
   "metadata": {},
   "source": [
    "Exercise 7: Updating JSON Data"
   ]
  },
  {
   "cell_type": "code",
   "execution_count": 14,
   "metadata": {},
   "outputs": [],
   "source": [
    "acar = {\n",
    "    \"car2\":{\n",
    "        \"model\": \"micra\",\n",
    "        \"manufacturer\": \"nissan\",\n",
    "        \"top_speed\": 95,\n",
    "        \"age\": 18,\n",
    "        \"sold\": True,\n",
    "    },   \n",
    "}\n",
    "\n",
    "with open(\"cars.json\", \"r\") as afile:\n",
    "    data = json.load(afile)\n",
    "    data.update(acar)\n",
    "with open(\"cars_updated.json\", \"w\") as afile:\n",
    "    json.dump(data, afile)"
   ]
  },
  {
   "cell_type": "markdown",
   "metadata": {},
   "source": [
    "Exercise 8: JSON Data Filtering"
   ]
  },
  {
   "cell_type": "code",
   "execution_count": 15,
   "metadata": {},
   "outputs": [],
   "source": [
    "fast_cars = {}\n",
    "with open(\"cars_updated.json\", \"r\") as afile:\n",
    "        data = json.load(afile)\n",
    "        for i in data.keys():\n",
    "            if data[i][\"top_speed\"] > 200:\n",
    "                 fast_cars[i] = data[i]\n",
    "\n",
    "with open(\"fast_cars.json\", \"w\") as afile:\n",
    "    json.dump(fast_cars, afile)"
   ]
  },
  {
   "cell_type": "markdown",
   "metadata": {},
   "source": [
    "OPTIONAL EXERCISE\n",
    "Exercise 9: File Format Converter"
   ]
  },
  {
   "cell_type": "code",
   "execution_count": 16,
   "metadata": {},
   "outputs": [],
   "source": [
    "def convert(doc, ext):\n",
    "    ## json to txt\n",
    "    if ext == \".txt\":\n",
    "        with open(doc, \"r\") as infile:\n",
    "            data = json.load(infile)\n",
    "        with open(doc + ext , \"w\") as outfile:\n",
    "            outfile.write(json.dumps(data))\n",
    "    ## txt to json\n",
    "    if ext == \".json\":\n",
    "        with open(doc, \"r\") as infile:\n",
    "            json_string = infile.read()\n",
    "            data = json.loads(json_string)\n",
    "        with open(doc + ext , \"w\") as outfile:\n",
    "            json.dump(data, outfile)\n",
    "            \n",
    "\n",
    "\n",
    "    \n",
    "convert(\"cars.json\", \".txt\")\n",
    "convert(\"cars.json.txt\", \".json\" )"
   ]
  }
 ],
 "metadata": {
  "kernelspec": {
   "display_name": ".venv",
   "language": "python",
   "name": "python3"
  },
  "language_info": {
   "codemirror_mode": {
    "name": "ipython",
    "version": 3
   },
   "file_extension": ".py",
   "mimetype": "text/x-python",
   "name": "python",
   "nbconvert_exporter": "python",
   "pygments_lexer": "ipython3",
   "version": "3.12.7"
  }
 },
 "nbformat": 4,
 "nbformat_minor": 2
}
