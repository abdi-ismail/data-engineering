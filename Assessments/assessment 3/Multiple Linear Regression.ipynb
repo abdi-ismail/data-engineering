{
 "cells": [
  {
   "cell_type": "code",
   "execution_count": 28,
   "metadata": {},
   "outputs": [],
   "source": [
    "import os\n",
    "import sys\n",
    "\n",
    "os.environ[\"JAVA_HOME\"] = \"../../.JDK 8\" \n",
    "os.environ[\"PYSPARK_PYTHON\"] = sys.executable\n",
    "os.environ[\"PYSPARK_DRIVER_PYTHON\"] = sys.executable"
   ]
  },
  {
   "cell_type": "code",
   "execution_count": 29,
   "metadata": {},
   "outputs": [],
   "source": [
    "import pandas as pd\n",
    "import matplotlib.pyplot as plt\n",
    "import seaborn as sns\n",
    "from pyspark.sql import SparkSession\n",
    "import pyspark.sql.functions as F\n",
    "import pyspark.sql.types as T\n",
    "from pyspark.ml.feature import VectorAssembler\n",
    "from pyspark.ml.regression import LinearRegression\n",
    "from pyspark.ml.evaluation import RegressionEvaluator"
   ]
  },
  {
   "cell_type": "markdown",
   "metadata": {},
   "source": [
    "# Multiple Linear Regression"
   ]
  },
  {
   "cell_type": "code",
   "execution_count": 30,
   "metadata": {},
   "outputs": [],
   "source": [
    "# Create SparkSession\n",
    "spark = SparkSession \\\n",
    "    .builder \\\n",
    "        .appName(\"MultipleLinearRegression\") \\\n",
    "            .getOrCreate()"
   ]
  },
  {
   "cell_type": "code",
   "execution_count": 31,
   "metadata": {},
   "outputs": [
    {
     "name": "stdout",
     "output_type": "stream",
     "text": [
      "+---------+-----+----------+------------+----------+---------+------------+--------+--------------------+-------------------+--------------------+------------------------+------------+\n",
      "|MODELYEAR| MAKE|     MODEL|VEHICLECLASS|ENGINESIZE|CYLINDERS|TRANSMISSION|FUELTYPE|FUELCONSUMPTION_CITY|FUELCONSUMPTION_HWY|FUELCONSUMPTION_COMB|FUELCONSUMPTION_COMB_MPG|CO2EMISSIONS|\n",
      "+---------+-----+----------+------------+----------+---------+------------+--------+--------------------+-------------------+--------------------+------------------------+------------+\n",
      "|     2014|ACURA|       ILX|     COMPACT|       2.0|        4|         AS5|       Z|                 9.9|                6.7|                 8.5|                      33|         196|\n",
      "|     2014|ACURA|       ILX|     COMPACT|       2.4|        4|          M6|       Z|                11.2|                7.7|                 9.6|                      29|         221|\n",
      "|     2014|ACURA|ILX HYBRID|     COMPACT|       1.5|        4|         AV7|       Z|                 6.0|                5.8|                 5.9|                      48|         136|\n",
      "|     2014|ACURA|   MDX 4WD| SUV - SMALL|       3.5|        6|         AS6|       Z|                12.7|                9.1|                11.1|                      25|         255|\n",
      "|     2014|ACURA|   RDX AWD| SUV - SMALL|       3.5|        6|         AS6|       Z|                12.1|                8.7|                10.6|                      27|         244|\n",
      "+---------+-----+----------+------------+----------+---------+------------+--------+--------------------+-------------------+--------------------+------------------------+------------+\n",
      "only showing top 5 rows\n",
      "\n"
     ]
    }
   ],
   "source": [
    "path = \"../../Week 11 - Spark Machine Learning (MLlib)/FuelConsumption.csv\"\n",
    "\n",
    "df = spark.read.csv(path, header=True, inferSchema=True)\n",
    "df.show(5)\n"
   ]
  },
  {
   "cell_type": "markdown",
   "metadata": {},
   "source": [
    "**Step 2:** Data Preparation\n",
    "\n",
    "+ **Select Relevant Columns:** We will filter only the relevant columns for the regression model.\n",
    "+ **Handle Missing Values:** We gonna drop rows or fill missing values in predictors or input columns.\n",
    "+ **Assemble Features:** We'll combine predictors into a single features vector using VectorAssembler."
   ]
  },
  {
   "cell_type": "code",
   "execution_count": 32,
   "metadata": {},
   "outputs": [
    {
     "name": "stdout",
     "output_type": "stream",
     "text": [
      "+----------+----------+--------------------+---------+------------+\n",
      "|     MODEL|ENGINESIZE|FUELCONSUMPTION_COMB|CYLINDERS|CO2EMISSIONS|\n",
      "+----------+----------+--------------------+---------+------------+\n",
      "|       ILX|       2.0|                 8.5|        4|         196|\n",
      "|       ILX|       2.4|                 9.6|        4|         221|\n",
      "|ILX HYBRID|       1.5|                 5.9|        4|         136|\n",
      "|   MDX 4WD|       3.5|                11.1|        6|         255|\n",
      "|   RDX AWD|       3.5|                10.6|        6|         244|\n",
      "+----------+----------+--------------------+---------+------------+\n",
      "only showing top 5 rows\n",
      "\n"
     ]
    }
   ],
   "source": [
    "# Select relevant features for predicting CO2EMISSIONS\n",
    "df_MLR = df.select(\"MODEL\", \"ENGINESIZE\", \"FUELCONSUMPTION_COMB\", \"CYLINDERS\", \"CO2EMISSIONS\")\n",
    "df_MLR.show(5)"
   ]
  },
  {
   "cell_type": "code",
   "execution_count": 33,
   "metadata": {},
   "outputs": [
    {
     "name": "stdout",
     "output_type": "stream",
     "text": [
      "+---------+----+-----+------------+----------+---------+------------+--------+--------------------+-------------------+--------------------+------------------------+------------+\n",
      "|MODELYEAR|MAKE|MODEL|VEHICLECLASS|ENGINESIZE|CYLINDERS|TRANSMISSION|FUELTYPE|FUELCONSUMPTION_CITY|FUELCONSUMPTION_HWY|FUELCONSUMPTION_COMB|FUELCONSUMPTION_COMB_MPG|CO2EMISSIONS|\n",
      "+---------+----+-----+------------+----------+---------+------------+--------+--------------------+-------------------+--------------------+------------------------+------------+\n",
      "|        0|   0|    0|           0|         0|        0|           0|       0|                   0|                  0|                   0|                       0|           0|\n",
      "+---------+----+-----+------------+----------+---------+------------+--------+--------------------+-------------------+--------------------+------------------------+------------+\n",
      "\n"
     ]
    }
   ],
   "source": [
    "# Handle missing values (if any)\n",
    "null_count = df.select([F.sum(F.col(c).isNull().cast(\"int\")).alias(c) for c in df.columns])\n",
    "null_count.show()"
   ]
  },
  {
   "cell_type": "code",
   "execution_count": 34,
   "metadata": {},
   "outputs": [
    {
     "name": "stdout",
     "output_type": "stream",
     "text": [
      "+------------+----------+--------------------+---------+------------+---------------+\n",
      "|       MODEL|ENGINESIZE|FUELCONSUMPTION_COMB|CYLINDERS|CO2EMISSIONS|       features|\n",
      "+------------+----------+--------------------+---------+------------+---------------+\n",
      "|         ILX|       2.0|                 8.5|        4|         196|  [2.0,8.5,4.0]|\n",
      "|         ILX|       2.4|                 9.6|        4|         221|  [2.4,9.6,4.0]|\n",
      "|  ILX HYBRID|       1.5|                 5.9|        4|         136|  [1.5,5.9,4.0]|\n",
      "|     MDX 4WD|       3.5|                11.1|        6|         255| [3.5,11.1,6.0]|\n",
      "|     RDX AWD|       3.5|                10.6|        6|         244| [3.5,10.6,6.0]|\n",
      "|         RLX|       3.5|                10.0|        6|         230| [3.5,10.0,6.0]|\n",
      "|          TL|       3.5|                10.1|        6|         232| [3.5,10.1,6.0]|\n",
      "|      TL AWD|       3.7|                11.1|        6|         255| [3.7,11.1,6.0]|\n",
      "|      TL AWD|       3.7|                11.6|        6|         267| [3.7,11.6,6.0]|\n",
      "|         TSX|       2.4|                 9.2|        4|         212|  [2.4,9.2,4.0]|\n",
      "|         TSX|       2.4|                 9.8|        4|         225|  [2.4,9.8,4.0]|\n",
      "|         TSX|       3.5|                10.4|        6|         239| [3.5,10.4,6.0]|\n",
      "|         DB9|       5.9|                15.6|       12|         359|[5.9,15.6,12.0]|\n",
      "|      RAPIDE|       5.9|                15.6|       12|         359|[5.9,15.6,12.0]|\n",
      "|  V8 VANTAGE|       4.7|                14.7|        8|         338| [4.7,14.7,8.0]|\n",
      "|  V8 VANTAGE|       4.7|                15.4|        8|         354| [4.7,15.4,8.0]|\n",
      "|V8 VANTAGE S|       4.7|                14.7|        8|         338| [4.7,14.7,8.0]|\n",
      "|V8 VANTAGE S|       4.7|                15.4|        8|         354| [4.7,15.4,8.0]|\n",
      "|    VANQUISH|       5.9|                15.6|       12|         359|[5.9,15.6,12.0]|\n",
      "|          A4|       2.0|                 8.8|        4|         202|  [2.0,8.8,4.0]|\n",
      "+------------+----------+--------------------+---------+------------+---------------+\n",
      "only showing top 20 rows\n",
      "\n"
     ]
    }
   ],
   "source": [
    "assembler = VectorAssembler(inputCols=[\"ENGINESIZE\", \"FUELCONSUMPTION_COMB\", \"CYLINDERS\"]\n",
    "                            ,outputCol=\"features\")\n",
    "data = assembler.transform(df_MLR)\n",
    "data.show()"
   ]
  },
  {
   "cell_type": "markdown",
   "metadata": {},
   "source": [
    "**Step 3:** Train-Test Split"
   ]
  },
  {
   "cell_type": "code",
   "execution_count": 35,
   "metadata": {},
   "outputs": [],
   "source": [
    "train_data, test_data = data.randomSplit([0.8, 0.2], seed=42)"
   ]
  },
  {
   "cell_type": "markdown",
   "metadata": {},
   "source": [
    "**Step 4:** Train the Multiple Linear Regression Model"
   ]
  },
  {
   "cell_type": "code",
   "execution_count": 36,
   "metadata": {},
   "outputs": [
    {
     "name": "stderr",
     "output_type": "stream",
     "text": [
      "25/03/22 14:20:56 WARN Instrumentation: [f8e0579b] regParam is zero, which might cause numerical instability and overfitting.\n"
     ]
    }
   ],
   "source": [
    "MLR = LinearRegression(featuresCol=\"features\",\n",
    "                       labelCol=\"CO2EMISSIONS\")\n",
    "\n",
    "LR_MODEL = MLR.fit(train_data)"
   ]
  },
  {
   "cell_type": "markdown",
   "metadata": {},
   "source": [
    "**EXERCISE:** Use the intercept and the different coefficients, to write the equation of the multiple regression line of your output feature"
   ]
  },
  {
   "cell_type": "code",
   "execution_count": 37,
   "metadata": {},
   "outputs": [
    {
     "name": "stdout",
     "output_type": "stream",
     "text": [
      "y = [11.65067715620233,9.416590025632905,6.9178330618928054]x + 68.03186580328334\n"
     ]
    }
   ],
   "source": [
    "# y = ax + b\n",
    "coef = LR_MODEL.coefficients\n",
    "\n",
    "intercept = LR_MODEL.intercept\n",
    "\n",
    "print(f\"y = {coef}x + {intercept}\")"
   ]
  },
  {
   "cell_type": "markdown",
   "metadata": {},
   "source": [
    "# y = 11.7x<sub>1</sub>, 9.4x<sub>2</sub>, 6.9x<sub>3</sub> + 68.0"
   ]
  },
  {
   "cell_type": "markdown",
   "metadata": {},
   "source": [
    "**Step 5:** Make Predictions"
   ]
  },
  {
   "cell_type": "code",
   "execution_count": 40,
   "metadata": {},
   "outputs": [
    {
     "name": "stdout",
     "output_type": "stream",
     "text": [
      "+--------------------+----------+--------------------+---------+------------+--------------+------------------+\n",
      "|               MODEL|ENGINESIZE|FUELCONSUMPTION_COMB|CYLINDERS|CO2EMISSIONS|      features|        prediction|\n",
      "+--------------------+----------+--------------------+---------+------------+--------------+------------------+\n",
      "|      1500 4X4 (MDS)|       5.7|                14.1|        8|         324|[5.7,14.1,8.0]|322.55730945020304|\n",
      "|        1500 4X4 FFV|       3.6|                17.8|        6|         285|[3.6,17.8,6.0]|319.09660439323426|\n",
      "|            1500 FFV|       3.6|                11.9|        6|         274|[3.6,11.9,6.0]| 263.5387232420001|\n",
      "| 200 CONVERTIBLE FFV|       3.6|                10.5|        6|         242|[3.6,10.5,6.0]|250.35549720611402|\n",
      "|                 300|       3.6|                10.3|        6|         237|[3.6,10.3,6.0]|248.47217920098745|\n",
      "|         300 AWD FFV|       3.6|                10.9|        6|         251|[3.6,10.9,6.0]|254.12213321636722|\n",
      "|                320i|       2.0|                 8.7|        4|         200| [2.0,8.7,4.0]| 200.9288855862655|\n",
      "|         328i xDRIVE|       2.0|                 9.1|        4|         209| [2.0,9.1,4.0]|204.69552159651863|\n",
      "|       370Z ROADSTER|       3.7|                11.4|        6|         262|[3.7,11.4,6.0]| 259.9954959448039|\n",
      "|       370Z ROADSTER|       3.7|                11.7|        6|         269|[3.7,11.7,6.0]|262.82047295249373|\n",
      "|          428i COUPE|       2.0|                 8.4|        4|         193| [2.0,8.4,4.0]| 198.1039085785756|\n",
      "|   428i xDRIVE COUPE|       2.0|                 9.1|        4|         209| [2.0,9.1,4.0]|204.69552159651863|\n",
      "|          435i COUPE|       3.0|                10.0|        6|         230|[3.0,10.0,6.0]| 238.6567958995762|\n",
      "|         4RUNNER 4WD|       4.0|                12.9|        6|         297|[4.0,12.9,6.0]|  277.615584130114|\n",
      "|       500 HATCHBACK|       1.4|                 7.9|        4|         182| [1.4,7.9,4.0]|186.40520727203779|\n",
      "|         535i xDRIVE|       3.0|                10.1|        6|         232|[3.0,10.1,6.0]|239.59845490213945|\n",
      "|        740Li xDRIVE|       3.0|                10.7|        6|         246|[3.0,10.7,6.0]| 245.2484089175192|\n",
      "|         911 TURBO S|       3.8|                11.9|        6|         274|[3.8,11.9,6.0]|265.86885867324054|\n",
      "|A7 QUATTRO TDI CL...|       3.0|                 8.3|        6|         224| [3.0,8.3,6.0]|222.64859285600028|\n",
      "|                 A8L|       3.0|                11.2|        6|         258|[3.0,11.2,6.0]|249.95670393033566|\n",
      "+--------------------+----------+--------------------+---------+------------+--------------+------------------+\n",
      "only showing top 20 rows\n",
      "\n"
     ]
    }
   ],
   "source": [
    "MLR_prediction = LR_MODEL.transform(test_data)\n",
    "MLR_prediction.show()"
   ]
  }
 ],
 "metadata": {
  "kernelspec": {
   "display_name": ".venv",
   "language": "python",
   "name": "python3"
  },
  "language_info": {
   "codemirror_mode": {
    "name": "ipython",
    "version": 3
   },
   "file_extension": ".py",
   "mimetype": "text/x-python",
   "name": "python",
   "nbconvert_exporter": "python",
   "pygments_lexer": "ipython3",
   "version": "3.11.11"
  }
 },
 "nbformat": 4,
 "nbformat_minor": 2
}
