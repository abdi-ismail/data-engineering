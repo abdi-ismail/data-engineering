{
 "cells": [
  {
   "cell_type": "code",
   "execution_count": 1,
   "metadata": {},
   "outputs": [],
   "source": [
    "import os\n",
    "import sys\n",
    "\n",
    "os.environ[\"JAVA_HOME\"] = \"JDK 8\"\n",
    "os.environ[\"PYSPARK_PYTHON\"] = sys.executable\n",
    "os.environ[\"PYSPARK_DRIVER_PYTHON\"] = sys.executable"
   ]
  },
  {
   "cell_type": "code",
   "execution_count": 2,
   "metadata": {},
   "outputs": [
    {
     "name": "stderr",
     "output_type": "stream",
     "text": [
      "25/02/01 11:47:40 WARN Utils: Your hostname, Mint-T470 resolves to a loopback address: 127.0.1.1; using 192.168.1.249 instead (on interface wlp4s0)\n",
      "25/02/01 11:47:40 WARN Utils: Set SPARK_LOCAL_IP if you need to bind to another address\n",
      "Setting default log level to \"WARN\".\n",
      "To adjust logging level use sc.setLogLevel(newLevel). For SparkR, use setLogLevel(newLevel).\n",
      "25/02/01 11:47:45 WARN NativeCodeLoader: Unable to load native-hadoop library for your platform... using builtin-java classes where applicable\n",
      "25/02/01 11:47:53 WARN Utils: Service 'SparkUI' could not bind on port 4040. Attempting port 4041.\n"
     ]
    }
   ],
   "source": [
    "from pyspark.sql import SparkSession\n",
    "from pyspark.sql.functions import col, count\n",
    "# from pyspark.sql.types import IntegerType\n",
    "\n",
    "# from pyspark.sql.functions import col\n",
    "\n",
    "spark = SparkSession.builder.appName(\"SQL\").getOrCreate()\n"
   ]
  },
  {
   "cell_type": "code",
   "execution_count": 15,
   "metadata": {},
   "outputs": [
    {
     "name": "stdout",
     "output_type": "stream",
     "text": [
      "+----------+-----------------+--------------------+-----+-----------+\n",
      "|product_id|     product_name|         description|stock|category_id|\n",
      "+----------+-----------------+--------------------+-----+-----------+\n",
      "|         1|       Smartphone|Latest 5G smartph...|  100|          1|\n",
      "|         2|           Laptop|High-performance ...|   50|          1|\n",
      "|         3|           Tablet|10-inch tablet wi...|   75|          1|\n",
      "|         4|  Washing Machine|Front-load washin...|   20|          2|\n",
      "|         5|     Refrigerator|Double-door fridg...|   15|          2|\n",
      "|         6|        Microwave|Countertop microw...|   30|          2|\n",
      "|         7|            Jeans|Men classic fit j...|  200|          3|\n",
      "|         8|          T-Shirt|Unisex cotton T-s...|  300|          3|\n",
      "|         9|Bluetooth Speaker|Portable Bluetoot...|  150|          1|\n",
      "|        10|       Smartwatch|Fitness tracking ...|   80|          1|\n",
      "|        11|       Headphones|Noise-canceling o...|   60|          1|\n",
      "|        12|  Air Conditioner|Energy-efficient ...|   25|          2|\n",
      "|        13|   Vacuum Cleaner|Robot vacuum clea...|   40|          2|\n",
      "|        14|       Dishwasher|Compact dishwashe...|   35|          2|\n",
      "|        15|             Sofa|3-seater fabric sofa|   18|          2|\n",
      "|        16|     Dining Table|Wooden dining tab...|   12|          2|\n",
      "|        17|        Bookshelf|Wooden bookshelf ...|   60|          2|\n",
      "|        18|     Office Chair|Ergonomic office ...|  100|          2|\n",
      "|        19|        Desk Lamp|LED desk lamp wit...|  120|          2|\n",
      "|        20|           Fridge|Single-door refri...|   30|          2|\n",
      "+----------+-----------------+--------------------+-----+-----------+\n",
      "only showing top 20 rows\n",
      "\n"
     ]
    }
   ],
   "source": [
    "url = \"jdbc:postgresql://localhost:5432/DataEng_db\"\n",
    "properties = {\n",
    "    \"user\": \"postgres\",\n",
    "    \"password\": \"Cheesecake\",\n",
    "    \"driver\": \"org.postgresql.Driver\"\n",
    "}\n",
    "\n",
    "# Load the PostgreSQL table into a PySpark DataFrame\n",
    "df = spark.read.jdbc(url=url, table=\"products_tb\", properties=properties)\n",
    "\n",
    "# Show the data\n",
    "df.show()"
   ]
  },
  {
   "cell_type": "code",
   "execution_count": 14,
   "metadata": {},
   "outputs": [
    {
     "name": "stdout",
     "output_type": "stream",
     "text": [
      "+----------+------------+--------------------+-----+-----------+\n",
      "|product_id|product_name|         description|stock|category_id|\n",
      "+----------+------------+--------------------+-----+-----------+\n",
      "|         1|  Smartphone|Latest 5G smartph...|  100|          1|\n",
      "+----------+------------+--------------------+-----+-----------+\n",
      "\n"
     ]
    }
   ],
   "source": [
    "df.createOrReplaceTempView(\"table_view\")\n",
    "df_queried = spark.sql(\"SELECT * FROM table_view WHERE product_id = 1\")\n",
    "df_queried.show()\n",
    "# df.write.jdbc(url=url, table=\"spark_query\", properties=properties, mode=\"overwrite\")"
   ]
  }
 ],
 "metadata": {
  "kernelspec": {
   "display_name": ".venv",
   "language": "python",
   "name": "python3"
  },
  "language_info": {
   "codemirror_mode": {
    "name": "ipython",
    "version": 3
   },
   "file_extension": ".py",
   "mimetype": "text/x-python",
   "name": "python",
   "nbconvert_exporter": "python",
   "pygments_lexer": "ipython3",
   "version": "3.11.0"
  }
 },
 "nbformat": 4,
 "nbformat_minor": 2
}
