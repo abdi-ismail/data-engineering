{
 "cells": [
  {
   "cell_type": "code",
   "execution_count": null,
   "id": "06bbf586-883c-43b3-9307-84e3e11406cf",
   "metadata": {},
   "outputs": [],
   "source": [
    "# In case iPython does not find our personalized modules and we want to import them manually\n",
    "# import sys\n",
    "# sys.path.append('my/path/to/module/folder')\n",
    "# import module_of_interest\n",
    "\n",
    "# We can also make sure what's the main directory iPhython consider for running\n",
    "# import os\n",
    "# os.getcwd()\n",
    "\n",
    "import constants\n",
    "import sqlquery\n",
    "import pandas as pd\n",
    "import numpy as np\n",
    "import psycopg2\n",
    "import csv\n",
    "import os\n",
    "import subprocess\n",
    "from dotenv import load_dotenv\n",
    "from pathlib import Path\n",
    "\n",
    "pd.set_option('display.max_rows', 100)\n",
    "pd.set_option('display.max_columns', 50)\n",
    "\n",
    "config_path = Path('configs/.env')\n",
    "load_dotenv(dotenv_path=config_path)"
   ]
  },
  {
   "cell_type": "code",
   "execution_count": null,
   "id": "41de388a-ed98-4680-8c4b-1b67fdfca562",
   "metadata": {},
   "outputs": [],
   "source": [
    "APP_ENVIRONMENT = os.getenv('APP_ENVIRONMENT')\n",
    "APP_VERSION = os.getenv('APP_VERSION')\n",
    "\n",
    "print(f\"Running Premier League ETL process Environment: {APP_ENVIRONMENT} version: {APP_VERSION}\")"
   ]
  },
  {
   "cell_type": "code",
   "execution_count": null,
   "id": "f7a26518-0b1c-4828-ba81-e24393c45349",
   "metadata": {},
   "outputs": [],
   "source": [
    "# -- EXTRACTION\n",
    "\n",
    "website_frame = pd.read_csv(constants.CSV_SOURCE_URL)"
   ]
  },
  {
   "cell_type": "code",
   "execution_count": null,
   "id": "72586d40-0b33-4575-a3a4-ce3dd3cc725d",
   "metadata": {},
   "outputs": [],
   "source": [
    "# -- TRANSFORMATION\n",
    "\n",
    "# Remove unwanted columns\n",
    "\n",
    "unwanted_cols = [\n",
    " 'Div',\n",
    " '1XBA',\n",
    " '1XBCA',\n",
    " '1XBCD',\n",
    " '1XBCH',\n",
    " '1XBD',\n",
    " '1XBH',\n",
    " 'BFA',\n",
    " 'BFCA',\n",
    " 'BFCD',\n",
    " 'BFCH',\n",
    " 'BFD',\n",
    " 'BFE<2.5',\n",
    " 'BFE>2.5',\n",
    " 'BFEA',\n",
    " 'BFEAHA',\n",
    " 'BFEAHH',\n",
    " 'BFEC<2.5',\n",
    " 'BFEC>2.5',\n",
    " 'BFECA',\n",
    " 'BFECAHA',\n",
    " 'BFECAHH',\n",
    " 'BFECD',\n",
    " 'BFECH',\n",
    " 'BFED',\n",
    " 'BFEH',\n",
    " 'BFH',\n",
    " 'AHh', 'B365AHH', \n",
    "       'B365AHA', 'PAHH', 'PAHA', 'MaxAHH', 'MaxAHA', 'AvgAHH', 'AvgAHA',\n",
    "       'B365CH', 'B365CD', 'B365CA', 'BWCH', 'BWCD', 'BWCA', 'PSCH', 'PSCD',\n",
    "       'PSCA', 'WHCH', 'WHCD', 'WHCA', 'MaxCH', 'MaxCD', 'MaxCA', 'AvgCH',\n",
    "       'AvgCD', 'AvgCA', 'B365C>2.5', 'B365C<2.5', 'PC>2.5', 'PC<2.5',\n",
    "       'MaxC>2.5', 'MaxC<2.5', 'AvgC>2.5', 'AvgC<2.5', 'AHCh', 'B365CAHH',\n",
    "       'B365CAHA', 'PCAHH', 'PCAHA', 'MaxCAHH', 'MaxCAHA', 'AvgCAHH',\n",
    "       'AvgCAHA','BWH', 'BWD', 'BWA', 'PSH', 'P>2.5', 'P<2.5',\n",
    "       'PSD', 'PSA', 'WHH', 'WHD', 'WHA']\n",
    "website_frame.drop(columns = unwanted_cols, inplace = True)"
   ]
  },
  {
   "cell_type": "code",
   "execution_count": null,
   "id": "00cda5a1-4a77-4d68-8a18-0063ecbfaaea",
   "metadata": {},
   "outputs": [],
   "source": [
    "# Rename columns\n",
    "website_frame.rename(columns = {\"FTHG\": \"FullTimeHomeTeamGoals\",\n",
    "                               \"FTAG\": \"FullTimeAwayTeamGoals\",\n",
    "                               \"FTR\": \"FullTimeResult\",\n",
    "                               \"HTHG\": \"HalfTimeHomeTeamGoals\",\n",
    "                               \"HTAG\": \"HalfTimeAwayTeamGoals\",\n",
    "                               \"HTR\": \"HalfTimeResult\",\n",
    "                               \"HS\": \"HomeTeamShots\",\n",
    "                               \"AS\": \"AwayTeamShots\",\n",
    "                               \"HST\": \"HomeTeamShotsOnTarget\",\n",
    "                               \"AST\": \"AwayTeamShotsOnTarget\",\n",
    "                               \"HF\": \"HomeTeamFouls\",\n",
    "                               \"AF\": \"AwayTeamFouls\",\n",
    "                               \"HC\": \"HomeTeamCorners\",\n",
    "                               \"AC\": \"AwayTeamCorners\",\n",
    "                               \"HY\": \"HomeTeamYellowCards\",\n",
    "                               \"AY\": \"AwayTeamYellowCards\",\n",
    "                               \"HR\": \"HomeTeamRedCards\",\n",
    "                               \"AR\": \"AwayTeamRedCards\",\n",
    "                               \"B365H\": \"B365HomeTeam\",\n",
    "                               \"B365D\": \"B365Draw\",\n",
    "                               \"B365A\": \"B365AwayTeam\",\n",
    "                               \"MaxH\": \"MarketMaxHomeTeam\",\n",
    "                               \"MaxD\": \"MarketMaxDraw\",\n",
    "                               \"MaxA\": \"MarketMaxAwayTeam\",\n",
    "                               \"AvgH\": \"MarketAvgHomeTeam\",\n",
    "                               \"AvgD\": \"MarketAvgDraw\",\n",
    "                               \"AvgA\": \"MarketAvgAwayTeam\",\n",
    "                               \"B365>2.5\": \"B365Over2.5Goals\",\n",
    "                               \"B365<2.5\": \"B365Under2.5Goals\",\n",
    "                               \"Max>2.5\": \"MarketMaxOver2.5Goals\",\n",
    "                               \"Max<2.5\": \"MarketMaxUnder2.5Goals\",\n",
    "                               \"Avg>2.5\": \"MarketAvgOver2.5Goals\",\n",
    "                               \"Avg<2.5\": \"MarketAvgUnder2.5Goals\"},\n",
    "                   inplace = True)\n"
   ]
  },
  {
   "cell_type": "code",
   "execution_count": null,
   "id": "66bda270-f2c2-4fac-8659-28a9e5d9827c",
   "metadata": {},
   "outputs": [],
   "source": [
    "# Add MatchID column\n",
    "\n",
    "website_frame.insert(0, \"MatchID\", constants.CURRENT_SEASON_TAG + \"_\" + website_frame[\"HomeTeam\"] + \"_\" + website_frame[\"AwayTeam\"])"
   ]
  },
  {
   "cell_type": "code",
   "execution_count": null,
   "id": "8f8b50c0-f77b-47ed-aae4-6ca9fe6c44fa",
   "metadata": {},
   "outputs": [],
   "source": [
    "# Add season column\n",
    "\n",
    "website_frame.insert(1, \"Season\", constants.CURRENT_SEASON_TAG)"
   ]
  },
  {
   "cell_type": "code",
   "execution_count": null,
   "id": "446ab4a8-b40e-4992-8873-7fc9a870843d",
   "metadata": {},
   "outputs": [],
   "source": [
    "# Stablish a connection to Database data source and fetch last game so we can know current matchweek\n",
    "DB_SERVER = os.getenv('DB_SERVER')\n",
    "DB_PORT = os.getenv('DB_PORT')\n",
    "DB_USER = os.getenv('DB_USER')\n",
    "DB_PASSWORD = os.getenv('DB_PASSWORD')\n",
    "DB_NAME = os.getenv('DB_NAME')\n",
    "\n",
    "try:\n",
    "    connection = psycopg2.connect(\n",
    "        host = DB_SERVER,\n",
    "        port = DB_PORT,\n",
    "        user = DB_USER,\n",
    "        password = DB_PASSWORD,\n",
    "        database = DB_NAME\n",
    "    )\n",
    "except psycopg2.Error as e:\n",
    "    print (f'Can not connect to the postgress database \"{DB_NAME}\". Make sure database server is running')\n",
    "    print (e)\n",
    "else:\n",
    "    print (f'Connection to database \"{DB_NAME}\" stablished. Listening at port {DB_PORT}')\n"
   ]
  },
  {
   "cell_type": "code",
   "execution_count": null,
   "id": "18f8b6f5-3bf9-4f40-873c-0fdc67326f3a",
   "metadata": {},
   "outputs": [],
   "source": [
    "# Find out current season matchweek\n",
    "next_matchweek = sqlquery.calculate_matchweek(connection)"
   ]
  },
  {
   "cell_type": "code",
   "execution_count": null,
   "id": "a37a2be8-9a0d-42ba-8788-f8a3b9d08925",
   "metadata": {},
   "outputs": [],
   "source": [
    "# Add MatchWeek column\n",
    "\n",
    "website_frame.insert(2, \"MatchWeek\", next_matchweek)"
   ]
  },
  {
   "cell_type": "code",
   "execution_count": null,
   "id": "54dcc98e-e07a-4f71-a5a9-2e83b66c6671",
   "metadata": {},
   "outputs": [],
   "source": [
    "# Add Points columns\n",
    "\n",
    "conditions = [\n",
    "     website_frame[\"FullTimeResult\"] == 'H',\n",
    "     website_frame[\"FullTimeResult\"] == 'D',\n",
    "     website_frame[\"FullTimeResult\"] == 'A'\n",
    "]\n",
    "\n",
    "home_points = [ 3, 1, 0]\n",
    "away_points = [ 0, 1, 3]\n",
    "\n",
    "website_frame[\"HomeTeamPoints\"] = np.select(conditions, home_points)\n",
    "website_frame[\"AwayTeamPoints\"] = np.select(conditions, away_points)"
   ]
  },
  {
   "cell_type": "code",
   "execution_count": null,
   "id": "a1866603-b8fa-42c7-8ece-198379f3c2ca",
   "metadata": {},
   "outputs": [],
   "source": [
    "# -- LOAD\n",
    "\n",
    "# Keep up to date postgresql database\n",
    "\n",
    "insert_statement = sqlquery.upsert_query(to_table=\"public.match_history\", reference_column=\"MatchID\",dataframe=website_frame)"
   ]
  },
  {
   "cell_type": "code",
   "execution_count": null,
   "id": "30d75a1f-fac7-4cf2-9912-a8f095a5363e",
   "metadata": {},
   "outputs": [],
   "source": [
    "try:\n",
    "    with connection.cursor() as cursor:\n",
    "        cursor.execute(insert_statement)\n",
    "        rowsAffected = cursor.rowcount\n",
    "        connection.commit()\n",
    "except psycopg2.Error as e:\n",
    "    print (f'Can not connect to the postgress database \"{DB_NAME}\". Make sure database server is running')\n",
    "    print (e)\n",
    "else:\n",
    "    print (f\"New Rows in Match History: {rowsAffected}\")\n",
    "finally:\n",
    "    cursor.close()"
   ]
  },
  {
   "cell_type": "code",
   "execution_count": null,
   "id": "b1e4f29f-bac6-4f76-a510-c00c878570eb",
   "metadata": {},
   "outputs": [],
   "source": [
    "# Keep up to date master dataset\n",
    "MASTER_CSV_FILE = os.getenv('MASTER_CSV_URL')\n",
    "\n",
    "try:\n",
    "    rowcount, columns, rows = sqlquery.select_all_matches(connection)\n",
    "    with(open(MASTER_CSV_FILE, mode='w',newline=\"\") as file):\n",
    "        writer = csv.writer(file)\n",
    "        # write column names\n",
    "        writer.writerow(columns)\n",
    "        writer.writerows(rows)\n",
    "except psycopg2.Error as e:\n",
    "    print (f'Can not connect to the postgress database \"{constants.DB_NAME}\". Make sure database server is running')\n",
    "    print (e)\n",
    "else:\n",
    "    print (f\"Rows in Master CSV Dataset: {rowcount}\")\n",
    "finally:\n",
    "    cursor.close()\n",
    "            "
   ]
  },
  {
   "cell_type": "code",
   "execution_count": null,
   "id": "7a87cb6b-c085-409f-bd9e-426cca2bbfac",
   "metadata": {},
   "outputs": [],
   "source": [
    "# Keep up to date Kaggle dataset\n",
    "result = subprocess.run(['kaggle','datasets', 'version','-p', '../../dataset','-m \"Python ETL Automated Upload\"'], capture_output=True, text=True)\n",
    "print(\"Python ETL Automated Kaggle Upload\")\n",
    "print(result.stdout)"
   ]
  },
  {
   "cell_type": "code",
   "execution_count": null,
   "id": "42ca1769-ec84-4137-9163-3fc19bdc6bc7",
   "metadata": {},
   "outputs": [],
   "source": [
    "connection.close()"
   ]
  },
  {
   "cell_type": "code",
   "execution_count": null,
   "id": "20966a68-d635-45b0-aa04-a6f5e186f21c",
   "metadata": {},
   "outputs": [],
   "source": []
  }
 ],
 "metadata": {
  "kernelspec": {
   "display_name": "Python 3 (ipykernel)",
   "language": "python",
   "name": "python3"
  },
  "language_info": {
   "codemirror_mode": {
    "name": "ipython",
    "version": 3
   },
   "file_extension": ".py",
   "mimetype": "text/x-python",
   "name": "python",
   "nbconvert_exporter": "python",
   "pygments_lexer": "ipython3",
   "version": "3.12.4"
  }
 },
 "nbformat": 4,
 "nbformat_minor": 5
}
