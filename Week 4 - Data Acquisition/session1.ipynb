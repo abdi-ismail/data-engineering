{
 "cells": [
  {
   "cell_type": "code",
   "execution_count": 1,
   "metadata": {},
   "outputs": [
    {
     "name": "stdout",
     "output_type": "stream",
     "text": [
      "1 times 5 is 5\n",
      "2 times 5 is 10\n",
      "3 times 5 is 15\n",
      "4 times 5 is 20\n",
      "5 times 5 is 25\n",
      "6 times 5 is 30\n",
      "7 times 5 is 35\n",
      "8 times 5 is 40\n",
      "9 times 5 is 45\n",
      "10 times 5 is 50\n",
      "11 times 5 is 55\n",
      "12 times 5 is 60\n"
     ]
    }
   ],
   "source": [
    "def get_times_table(n):\n",
    "    for i in range(1, 13):\n",
    "        print (f\"{i} times {n} is\",i*n)\n",
    "\n",
    "get_times_table(5)"
   ]
  },
  {
   "cell_type": "code",
   "execution_count": 2,
   "metadata": {},
   "outputs": [],
   "source": [
    "with open(\"first_text_file.txt\", \"w\") as outfile:\n",
    "    outfile.write(\"hello world\")"
   ]
  },
  {
   "cell_type": "code",
   "execution_count": 3,
   "metadata": {},
   "outputs": [],
   "source": [
    "with open(\"story.txt\", \"w\") as story:\n",
    "    story.write(\"I went to iungo Solutions to study python\")"
   ]
  },
  {
   "cell_type": "code",
   "execution_count": 4,
   "metadata": {},
   "outputs": [],
   "source": [
    "with open(\"story.txt\", \"a\") as story:\n",
    "    story.write(input(\"write\"))"
   ]
  },
  {
   "cell_type": "code",
   "execution_count": 6,
   "metadata": {},
   "outputs": [],
   "source": [
    "with open(\"story.txt\", \"a\") as story:\n",
    "    nl = \"\\n\"\n",
    "    while True:\n",
    "        test = input()\n",
    "        if test == \"exit\":\n",
    "            break\n",
    "        else:\n",
    "            test += nl\n",
    "            story.write(test)"
   ]
  },
  {
   "cell_type": "code",
   "execution_count": 1,
   "metadata": {},
   "outputs": [],
   "source": [
    "with open(\"story.txt\", \"a\") as story:\n",
    "    while True:\n",
    "        test = input()\n",
    "        if test == \"exit\":\n",
    "            break\n",
    "        else:\n",
    "            story.write(\"\\n\" + test)"
   ]
  },
  {
   "cell_type": "code",
   "execution_count": 7,
   "metadata": {},
   "outputs": [
    {
     "name": "stdout",
     "output_type": "stream",
     "text": [
      "['I went to iungo Solutions to study pythonhelloeveryone\\n', 'testing\\n', '123\\n']\n"
     ]
    }
   ],
   "source": [
    "# with open(\"story.txt\", \"r\") as infile:\n",
    "#     file_content = infile.read()\n",
    "#     print(file_content)\n",
    "    \n",
    "with open(\"story.txt\", \"r\") as infile:\n",
    "    file_content = infile.readlines()\n",
    "    print(file_content)\n",
    "    "
   ]
  },
  {
   "cell_type": "code",
   "execution_count": 6,
   "metadata": {},
   "outputs": [],
   "source": [
    "with open(\"story.txt\", \"r\") as infile:\n",
    "    file_content = infile.readlines()\n",
    "    new_line = file_content[1] + \"appended\"\n",
    "with open(\"story.txt\", \"a\") as outfile:\n",
    "    outfile.writelines(new_line)\n"
   ]
  },
  {
   "cell_type": "code",
   "execution_count": 9,
   "metadata": {},
   "outputs": [
    {
     "data": {
      "text/plain": [
       "'product'"
      ]
     },
     "execution_count": 9,
     "metadata": {},
     "output_type": "execute_result"
    }
   ],
   "source": [
    "dict = { \"name\": \"matt\",\n",
    "         \"age\": 26,\n",
    "         \"title\": \"PM tutor\",\n",
    "         \"salary\": \"REDACTED\",\n",
    "         \"department\": \"product\"\n",
    "    \n",
    "}\n",
    "\n",
    "dict[\"department\"]\n"
   ]
  },
  {
   "cell_type": "code",
   "execution_count": 19,
   "metadata": {},
   "outputs": [
    {
     "data": {
      "text/plain": [
       "{'city': 'bristol',\n",
       " 'day of study': ['tuesday', 'thursday', 'saturday', 'sunday'],\n",
       " 'tutor': 'matt',\n",
       " 'subject': 'data engineering',\n",
       " 'funded': False,\n",
       " 'time': '2am'}"
      ]
     },
     "execution_count": 19,
     "metadata": {},
     "output_type": "execute_result"
    }
   ],
   "source": [
    "dict2 = {\n",
    "    \"city\": \"bristol\",\n",
    "    \"day of study\": [\"tuesday\", \"thursday\", \"saturday\"],\n",
    "    \"tutor\": \"matt\",\n",
    "    \"subject\": \"data engineering\",\n",
    "    \"funded\": False\n",
    "}\n",
    "\n",
    "\n",
    "dict2[\"day of study\"].append(\"sunday\")\n",
    "dict2[\"time\"] = \"2am\"\n",
    "dict2"
   ]
  },
  {
   "cell_type": "code",
   "execution_count": 28,
   "metadata": {},
   "outputs": [
    {
     "data": {
      "text/plain": [
       "['tom', 'abdi', 'jim', 'mark', 'sally']"
      ]
     },
     "execution_count": 28,
     "metadata": {},
     "output_type": "execute_result"
    }
   ],
   "source": [
    "user = {\n",
    "    \"name\": \"sam\",\n",
    "    \"age\": 17,\n",
    "    \"friends\": [\"tom\", \"abdi\", \"jim\"]\n",
    "}\n",
    "\n",
    "user[\"friends\"].append(\"mark\")\n",
    "user[\"friends\"].append(\"sally\")\n",
    "\n",
    "user[\"friends\"]"
   ]
  },
  {
   "cell_type": "code",
   "execution_count": 35,
   "metadata": {},
   "outputs": [
    {
     "data": {
      "text/plain": [
       "{'username': 'tes', 'email': 'tes', 'password': 'test'}"
      ]
     },
     "execution_count": 35,
     "metadata": {},
     "output_type": "execute_result"
    }
   ],
   "source": [
    "login = {\n",
    "    \"username\": \"\",\n",
    "    \"email\": \"\",\n",
    "    \"password\": \"\"\n",
    "}\n",
    "\n",
    "login[\"username\"] = input(\"enter your username\")\n",
    "login[\"email\"] = input(\"enter your email\")\n",
    "login[\"password\"] = input(\"enter your password\")\n",
    "                \n",
    "\n",
    "login "
   ]
  },
  {
   "cell_type": "code",
   "execution_count": 51,
   "metadata": {},
   "outputs": [
    {
     "data": {
      "text/plain": [
       "{'name': 'tom', 'score': 70, 'grade': 'pass'}"
      ]
     },
     "execution_count": 51,
     "metadata": {},
     "output_type": "execute_result"
    }
   ],
   "source": [
    "student = {\n",
    "    \"name\": \"tom\",\n",
    "    \"score\": 70,\n",
    "    \"grade\": \"\"\n",
    "}\n",
    "\n",
    "if student[\"score\"] < 70:\n",
    "    student[\"grade\"] = \"fail\"\n",
    "else:\n",
    "    student[\"grade\"] =\"pass\"\n",
    "    \n",
    "student\n"
   ]
  }
 ],
 "metadata": {
  "kernelspec": {
   "display_name": ".venv",
   "language": "python",
   "name": "python3"
  },
  "language_info": {
   "codemirror_mode": {
    "name": "ipython",
    "version": 3
   },
   "file_extension": ".py",
   "mimetype": "text/x-python",
   "name": "python",
   "nbconvert_exporter": "python",
   "pygments_lexer": "ipython3",
   "version": "3.12.3"
  }
 },
 "nbformat": 4,
 "nbformat_minor": 2
}
