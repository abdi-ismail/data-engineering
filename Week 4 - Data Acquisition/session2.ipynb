{
 "cells": [
  {
   "cell_type": "code",
   "execution_count": null,
   "metadata": {},
   "outputs": [],
   "source": [
    "recipe = {\n",
    "    \"ingredients\": [\"eggs\", \"flour\", \"sugar\"],\n",
    "    \"serving\": 5,\n",
    "    \"oven_needed?\": True,\n",
    "    \"origin\": \"Portugal\",\n",
    "    \n",
    "}\n",
    "print(recipe)"
   ]
  },
  {
   "cell_type": "code",
   "execution_count": null,
   "metadata": {},
   "outputs": [],
   "source": [
    "recipe[\"ingredients\"][1]\n"
   ]
  },
  {
   "cell_type": "markdown",
   "metadata": {},
   "source": [
    "JSON "
   ]
  },
  {
   "cell_type": "code",
   "execution_count": null,
   "metadata": {},
   "outputs": [],
   "source": [
    "import json\n",
    "with open(\"recipe.json\", \"w\") as outfile:\n",
    "    json.dump(recipe, outfile, indent=4)"
   ]
  },
  {
   "cell_type": "code",
   "execution_count": null,
   "metadata": {},
   "outputs": [],
   "source": [
    "with open(\"recipe.json\", \"r\") as outfile:\n",
    "    data = json.load(outfile)\n",
    "    print(data)\n",
    "    "
   ]
  },
  {
   "cell_type": "code",
   "execution_count": null,
   "metadata": {},
   "outputs": [],
   "source": [
    "with open(\"employees.json\", \"r\") as infile:\n",
    "    employee_data = json.load(infile)\n",
    "    print(employee_data)\n",
    "    print(employee_data[0][\"name\"])\n",
    "    \n",
    "    "
   ]
  },
  {
   "cell_type": "code",
   "execution_count": null,
   "metadata": {},
   "outputs": [],
   "source": [
    "with open(\"employees.json\", \"r\") as infile:\n",
    "    employee_data = json.load(infile)\n",
    "    for i in range(len(employee_data)):\n",
    "        print(employee_data[i][\"name\"])\n",
    "    "
   ]
  },
  {
   "cell_type": "code",
   "execution_count": null,
   "metadata": {},
   "outputs": [],
   "source": [
    "with open(\"employees.json\", \"r\") as infile:\n",
    "    employee_data = json.load(infile)\n",
    "    for i in range(len(employee_data)):\n",
    "        print(employee_data[i][\"name\"])\n",
    "    "
   ]
  },
  {
   "cell_type": "code",
   "execution_count": null,
   "metadata": {},
   "outputs": [],
   "source": [
    "with open(\"employees.json\", \"r\") as infile:\n",
    "    employee_data = json.load(infile)\n",
    "    for employee in employee_data:\n",
    "        print(employee[\"last_name\"])    "
   ]
  },
  {
   "cell_type": "code",
   "execution_count": null,
   "metadata": {},
   "outputs": [],
   "source": [
    "with open(\"employees.json\", \"r\") as infile:\n",
    "    employee_data = json.load(infile)\n",
    "    for employee in employee_data:\n",
    "        if 1000 > employee[\"employee_id\"] > 200:\n",
    "                print(employee[\"employee_id\"], employee[\"last_name\"])    "
   ]
  },
  {
   "cell_type": "code",
   "execution_count": null,
   "metadata": {},
   "outputs": [],
   "source": [
    "with open(\"employees.json\", \"r\") as infile:\n",
    "    employee_data = json.load(infile)\n",
    "    for employee in employee_data:\n",
    "        if employee[\"employee_id\"] in range(200,1000):\n",
    "                print(employee[\"employee_id\"], employee[\"last_name\"])    "
   ]
  },
  {
   "cell_type": "code",
   "execution_count": null,
   "metadata": {},
   "outputs": [],
   "source": [
    "with open(\"employees.json\", \"r\") as infile:\n",
    "    employee_data = json.load(infile)\n",
    "    for employee in employee_data:\n",
    "        employee[\"email\"] = employee[\"first_name\"]+ \".\" +employee[\"last_name\"]+ \"@datapocolypse.com\"\n",
    "\n",
    "with open(\"employees_email.json\", \"w\") as infile:\n",
    "    json.dump(employee_data, infile, indent=4)"
   ]
  },
  {
   "cell_type": "code",
   "execution_count": null,
   "metadata": {},
   "outputs": [],
   "source": [
    "with open(\"employees.json\", \"r\") as infile:\n",
    "    employee_data = json.load(infile)\n",
    "    for employee in employee_data:\n",
    "        if employee[\"department\"] == \"Marketing\":\n",
    "            employee[\"salary\"] = round(employee[\"salary\"] * 1.1)\n",
    "            print(employee)\n",
    "with open(\"employees_salary.json\", \"w\") as infile:\n",
    "    json.dump(employee_data, infile, indent=4)"
   ]
  },
  {
   "cell_type": "code",
   "execution_count": null,
   "metadata": {},
   "outputs": [],
   "source": [
    "with open(\"employees.json\", \"r\") as infile:\n",
    "    employee_data_marketing=[]\n",
    "    employee_data = json.load(infile)\n",
    "    for employee in employee_data:\n",
    "        if employee[\"department\"] == \"Marketing\":\n",
    "            employee[\"salary\"] = round(employee[\"salary\"] * 1.1)\n",
    "            employee_data_marketing.append(employee)\n",
    "with open(\"employees_salary_marketing.json\", \"w\") as infile:\n",
    "    json.dump(employee_data_marketing, infile, indent=4)"
   ]
  },
  {
   "cell_type": "code",
   "execution_count": null,
   "metadata": {},
   "outputs": [],
   "source": [
    "with open(\"exam_results.json\", \"r\") as infile:\n",
    "    exam_data = json.load(infile)\n",
    "    for student in exam_data:\n",
    "        if student[\"score\"] > 59:\n",
    "            student[\"pass\"] = True\n",
    "        else:\n",
    "            student[\"pass\"] = False \n",
    "with open(\"exam_results_grades.json\", \"w\") as infile:\n",
    "    json.dump(exam_data, infile, indent=4)"
   ]
  },
  {
   "cell_type": "code",
   "execution_count": null,
   "metadata": {},
   "outputs": [],
   "source": [
    "# import random\n",
    "# with open(\"employees.json\", \"r\") as infile:\n",
    "#     employee_data = json.load(infile)\n",
    "#     for employee in employee_data:\n",
    "#         employee[\"id\"] = 329 * random.randint(1,10000)\n",
    "#         print(employee_data)\n",
    "        \n",
    "# with open(\"employee_new.json\", \"w\") as infile:\n",
    "#     json.dump(employee_data, infile, indent=4)"
   ]
  },
  {
   "cell_type": "code",
   "execution_count": null,
   "metadata": {},
   "outputs": [],
   "source": [
    "product = {\n",
    "    \"id\": 1,\n",
    "    \"name\": \"thinkpad\",\n",
    "    \"price\": 250,\n",
    "    \"seller\": \"lenovo\",\n",
    "    \"fulfilled\": True\n",
    "}\n",
    "\n",
    "product2 = {\n",
    "    \"id\": 1,\n",
    "    \"name\": \"XPS 13\",\n",
    "    \"price\": 1000,\n",
    "    \"seller\": \"dell\",\n",
    "    \"fulfilled\": False\n",
    "}\n",
    "\n",
    "product2 = {\n",
    "    \"id\": 1,\n",
    "    \"name\": \"macbook\",\n",
    "    \"price\": 2000,\n",
    "    \"seller\": \"apple\",\n",
    "    \"fulfilled\": True\n",
    "}\n",
    "\n",
    "products = [product, product2]"
   ]
  },
  {
   "cell_type": "code",
   "execution_count": null,
   "metadata": {},
   "outputs": [],
   "source": [
    "import csv\n",
    "with open(\"products.csv\", \"w\") as outfile:\n",
    "    header_names = product.keys()\n",
    "    writer = csv.DictWriter(outfile, header_names)\n",
    "    writer.writeheader()\n",
    "    writer.writerows(products)\n",
    "    "
   ]
  },
  {
   "cell_type": "code",
   "execution_count": 63,
   "metadata": {},
   "outputs": [
    {
     "name": "stdout",
     "output_type": "stream",
     "text": [
      "[{'first_name': 'Anthony', 'last_name': 'Horton', 'employee_id': 11187, 'salary': 24200, 'department': 'Marketing'}, {'first_name': 'Marc', 'last_name': 'Martinez', 'employee_id': 13561, 'salary': 16500, 'department': 'Marketing'}, {'first_name': 'Timothy', 'last_name': 'Bell', 'employee_id': 19091, 'salary': 27500, 'department': 'Marketing'}, {'first_name': 'Cindy', 'last_name': 'Herring', 'employee_id': 19453, 'salary': 34100, 'department': 'Marketing'}, {'first_name': 'James', 'last_name': 'Davis', 'employee_id': 10012, 'salary': 24200, 'department': 'Marketing'}, {'first_name': 'David', 'last_name': 'Long', 'employee_id': 6025, 'salary': 21450, 'department': 'Marketing'}, {'first_name': 'Rachel', 'last_name': 'Smith', 'employee_id': 6144, 'salary': 45100, 'department': 'Marketing'}, {'first_name': 'Katherine', 'last_name': 'Clark', 'employee_id': 8337, 'salary': 24750, 'department': 'Marketing'}, {'first_name': 'Tina', 'last_name': 'Henry', 'employee_id': 3612, 'salary': 16500, 'department': 'Marketing'}, {'first_name': 'Christine', 'last_name': 'Farmer', 'employee_id': 19022, 'salary': 29700, 'department': 'Marketing'}, {'first_name': 'Sandra', 'last_name': 'Stevens', 'employee_id': 6466, 'salary': 19250, 'department': 'Marketing'}, {'first_name': 'Amber', 'last_name': 'Glenn', 'employee_id': 4794, 'salary': 26950, 'department': 'Marketing'}, {'first_name': 'James', 'last_name': 'Andersen', 'employee_id': 19234, 'salary': 16500, 'department': 'Marketing'}, {'first_name': 'James', 'last_name': 'Rodgers', 'employee_id': 14361, 'salary': 28600, 'department': 'Marketing'}, {'first_name': 'Bobby', 'last_name': 'Irwin', 'employee_id': 1395, 'salary': 16500, 'department': 'Marketing'}, {'first_name': 'Stephanie', 'last_name': 'Lopez', 'employee_id': 4104, 'salary': 16500, 'department': 'Marketing'}, {'first_name': 'Jose', 'last_name': 'Cook', 'employee_id': 2953, 'salary': 23100, 'department': 'Marketing'}, {'first_name': 'Eric', 'last_name': 'Combs', 'employee_id': 3875, 'salary': 18150, 'department': 'Marketing'}, {'first_name': 'Susan', 'last_name': 'Aguilar', 'employee_id': 14864, 'salary': 30800, 'department': 'Marketing'}, {'first_name': 'Kelly', 'last_name': 'Mason', 'employee_id': 19461, 'salary': 24200, 'department': 'Marketing'}, {'first_name': 'Victoria', 'last_name': 'Ward', 'employee_id': 14093, 'salary': 28600, 'department': 'Marketing'}, {'first_name': 'Joshua', 'last_name': 'Riley', 'employee_id': 14535, 'salary': 18150, 'department': 'Marketing'}, {'first_name': 'Gilbert', 'last_name': 'Harris', 'employee_id': 612, 'salary': 45650, 'department': 'Marketing'}, {'first_name': 'Angel', 'last_name': 'Nicholson', 'employee_id': 10677, 'salary': 16500, 'department': 'Marketing'}, {'first_name': 'Jacqueline', 'last_name': 'Walter', 'employee_id': 5334, 'salary': 22000, 'department': 'Marketing'}, {'first_name': 'Samuel', 'last_name': 'Hernandez', 'employee_id': 7332, 'salary': 24200, 'department': 'Marketing'}, {'first_name': 'Mary', 'last_name': 'Russell', 'employee_id': 11047, 'salary': 16500, 'department': 'Marketing'}, {'first_name': 'Brian', 'last_name': 'Sosa', 'employee_id': 19465, 'salary': 17050, 'department': 'Marketing'}, {'first_name': 'Darlene', 'last_name': 'Martinez', 'employee_id': 6021, 'salary': 33000, 'department': 'Marketing'}, {'first_name': 'Rhonda', 'last_name': 'Hanson', 'employee_id': 2847, 'salary': 16500, 'department': 'Marketing'}, {'first_name': 'Debra', 'last_name': 'Ellis', 'employee_id': 13219, 'salary': 19800, 'department': 'Marketing'}, {'first_name': 'Ana', 'last_name': 'Benson', 'employee_id': 1572, 'salary': 16500, 'department': 'Marketing'}, {'first_name': 'Jeffrey', 'last_name': 'Roach', 'employee_id': 11760, 'salary': 57750, 'department': 'Marketing'}, {'first_name': 'David', 'last_name': 'Thompson', 'employee_id': 6843, 'salary': 20900, 'department': 'Marketing'}, {'first_name': 'Sara', 'last_name': 'King', 'employee_id': 13133, 'salary': 26950, 'department': 'Marketing'}, {'first_name': 'Lauren', 'last_name': 'Steele', 'employee_id': 12483, 'salary': 16500, 'department': 'Marketing'}, {'first_name': 'Jonathan', 'last_name': 'Knapp', 'employee_id': 15151, 'salary': 16500, 'department': 'Marketing'}, {'first_name': 'Michael', 'last_name': 'Calhoun', 'employee_id': 12216, 'salary': 16500, 'department': 'Marketing'}, {'first_name': 'Brittany', 'last_name': 'Cardenas', 'employee_id': 3400, 'salary': 44000, 'department': 'Marketing'}, {'first_name': 'Morgan', 'last_name': 'Ryan', 'employee_id': 18401, 'salary': 41250, 'department': 'Marketing'}, {'first_name': 'Michael', 'last_name': 'Mason', 'employee_id': 8278, 'salary': 18150, 'department': 'Marketing'}, {'first_name': 'Yolanda', 'last_name': 'Grimes', 'employee_id': 5282, 'salary': 36300, 'department': 'Marketing'}, {'first_name': 'Justin', 'last_name': 'Miller', 'employee_id': 7821, 'salary': 16500, 'department': 'Marketing'}, {'first_name': 'Albert', 'last_name': 'Mann', 'employee_id': 14187, 'salary': 26950, 'department': 'Marketing'}, {'first_name': 'James', 'last_name': 'Higgins', 'employee_id': 12696, 'salary': 19250, 'department': 'Marketing'}, {'first_name': 'Christine', 'last_name': 'Meadows', 'employee_id': 18992, 'salary': 16500, 'department': 'Marketing'}, {'first_name': 'Caleb', 'last_name': 'Burke', 'employee_id': 10507, 'salary': 16500, 'department': 'Marketing'}, {'first_name': 'Michael', 'last_name': 'Brown', 'employee_id': 4185, 'salary': 18700, 'department': 'Marketing'}, {'first_name': 'Lauren', 'last_name': 'Clarke', 'employee_id': 10558, 'salary': 32450, 'department': 'Marketing'}, {'first_name': 'Carrie', 'last_name': 'Simpson', 'employee_id': 15345, 'salary': 16500, 'department': 'Marketing'}, {'first_name': 'Trevor', 'last_name': 'Garza', 'employee_id': 6656, 'salary': 17050, 'department': 'Marketing'}, {'first_name': 'Jason', 'last_name': 'Tate', 'employee_id': 8526, 'salary': 16500, 'department': 'Marketing'}, {'first_name': 'Jason', 'last_name': 'Levy', 'employee_id': 16918, 'salary': 16500, 'department': 'Marketing'}, {'first_name': 'Jennifer', 'last_name': 'Santos', 'employee_id': 2874, 'salary': 17050, 'department': 'Marketing'}, {'first_name': 'Donald', 'last_name': 'Atkins', 'employee_id': 1605, 'salary': 37950, 'department': 'Marketing'}, {'first_name': 'Brian', 'last_name': 'French', 'employee_id': 3398, 'salary': 29150, 'department': 'Marketing'}, {'first_name': 'Anthony', 'last_name': 'Page', 'employee_id': 7964, 'salary': 16500, 'department': 'Marketing'}, {'first_name': 'Caitlyn', 'last_name': 'Franklin', 'employee_id': 14506, 'salary': 38500, 'department': 'Marketing'}, {'first_name': 'Sara', 'last_name': 'Garcia', 'employee_id': 16590, 'salary': 34650, 'department': 'Marketing'}, {'first_name': 'Leonard', 'last_name': 'Brown', 'employee_id': 10613, 'salary': 29150, 'department': 'Marketing'}, {'first_name': 'Henry', 'last_name': 'Osborn', 'employee_id': 2392, 'salary': 36300, 'department': 'Marketing'}, {'first_name': 'Shawn', 'last_name': 'Heath', 'employee_id': 18790, 'salary': 21450, 'department': 'Marketing'}, {'first_name': 'Douglas', 'last_name': 'Hays', 'employee_id': 4942, 'salary': 16500, 'department': 'Marketing'}, {'first_name': 'Ana', 'last_name': 'Sutton', 'employee_id': 7504, 'salary': 37950, 'department': 'Marketing'}, {'first_name': 'Christopher', 'last_name': 'Jimenez', 'employee_id': 12738, 'salary': 36850, 'department': 'Marketing'}, {'first_name': 'Rebecca', 'last_name': 'Moore', 'employee_id': 12401, 'salary': 52250, 'department': 'Marketing'}, {'first_name': 'Richard', 'last_name': 'Meyer', 'employee_id': 16645, 'salary': 23100, 'department': 'Marketing'}, {'first_name': 'Jeffrey', 'last_name': 'Joseph', 'employee_id': 18783, 'salary': 42900, 'department': 'Marketing'}, {'first_name': 'Laura', 'last_name': 'Diaz', 'employee_id': 1482, 'salary': 29150, 'department': 'Marketing'}, {'first_name': 'Tonya', 'last_name': 'Jones', 'employee_id': 15609, 'salary': 33000, 'department': 'Marketing'}, {'first_name': 'Hunter', 'last_name': 'Love', 'employee_id': 16366, 'salary': 16500, 'department': 'Marketing'}, {'first_name': 'Erin', 'last_name': 'Drake', 'employee_id': 10650, 'salary': 22550, 'department': 'Marketing'}, {'first_name': 'Christopher', 'last_name': 'Walker', 'employee_id': 3952, 'salary': 38500, 'department': 'Marketing'}, {'first_name': 'Christine', 'last_name': 'Mercado', 'employee_id': 5602, 'salary': 50050, 'department': 'Marketing'}, {'first_name': 'Chad', 'last_name': 'White', 'employee_id': 11855, 'salary': 16500, 'department': 'Marketing'}, {'first_name': 'Jennifer', 'last_name': 'Salinas', 'employee_id': 9154, 'salary': 22550, 'department': 'Marketing'}]\n"
     ]
    }
   ],
   "source": [
    "import json\n",
    "import csv\n",
    "with open(\"employees_salary_marketing.json\", \"r\") as infile:\n",
    "    employee_data = json.load(infile)\n",
    "    \n",
    "print(employee_data)\n",
    "with open(\"employee.csv\", \"w\") as outfile:\n",
    "    header_names = ['first_name', 'last_name', 'department', 'salary', 'employee_id']\n",
    "    # header_names = employee_data.keys()\n",
    "    writer = csv.DictWriter(outfile, header_names)\n",
    "    writer.writeheader()\n",
    "    writer.writerows(employee_data)\n",
    "    "
   ]
  },
  {
   "cell_type": "code",
   "execution_count": 68,
   "metadata": {},
   "outputs": [
    {
     "name": "stdout",
     "output_type": "stream",
     "text": [
      "{'first_name': 'Laura', 'last_name': 'Peters', 'employee_id': 19810, 'salary': 17500, 'department': 'Engineering - Front End'}\n",
      "{'first_name': 'Darius', 'last_name': 'Park', 'employee_id': 5219, 'salary': 18000, 'department': 'Engineering - Front End'}\n",
      "{'first_name': 'Timothy', 'last_name': 'Barker', 'employee_id': 6250, 'salary': 19500, 'department': 'Engineering - Front End'}\n",
      "{'first_name': 'Aaron', 'last_name': 'White', 'employee_id': 11922, 'salary': 22500, 'department': 'Engineering - Front End'}\n",
      "{'first_name': 'James', 'last_name': 'Sims', 'employee_id': 6235, 'salary': 15000, 'department': 'Engineering - Front End'}\n",
      "{'first_name': 'Michael', 'last_name': 'Wagner', 'employee_id': 10275, 'salary': 22500, 'department': 'Engineering - Front End'}\n",
      "{'first_name': 'Richard', 'last_name': 'Bush', 'employee_id': 3338, 'salary': 25500, 'department': 'Engineering - Front End'}\n",
      "{'first_name': 'Morgan', 'last_name': 'Brown', 'employee_id': 1519, 'salary': 34000, 'department': 'Engineering - Front End'}\n",
      "{'first_name': 'Cody', 'last_name': 'Daniel', 'employee_id': 5994, 'salary': 30500, 'department': 'Engineering - Front End'}\n",
      "{'first_name': 'Julian', 'last_name': 'James', 'employee_id': 13927, 'salary': 32000, 'department': 'Engineering - Front End'}\n",
      "{'first_name': 'Elizabeth', 'last_name': 'Cox', 'employee_id': 1695, 'salary': 19000, 'department': 'Engineering - Front End'}\n",
      "{'first_name': 'Andrew', 'last_name': 'Murphy', 'employee_id': 11773, 'salary': 35000, 'department': 'Engineering - Front End'}\n",
      "{'first_name': 'Cody', 'last_name': 'Chang', 'employee_id': 4442, 'salary': 15000, 'department': 'Engineering - Front End'}\n",
      "{'first_name': 'Angela', 'last_name': 'Friedman', 'employee_id': 19713, 'salary': 15000, 'department': 'Engineering - Front End'}\n",
      "{'first_name': 'Lauren', 'last_name': 'Berry', 'employee_id': 2475, 'salary': 16000, 'department': 'Engineering - Front End'}\n",
      "{'first_name': 'Tyler', 'last_name': 'Jones', 'employee_id': 15020, 'salary': 18500, 'department': 'Engineering - Front End'}\n",
      "{'first_name': 'Peter', 'last_name': 'Harvey', 'employee_id': 10680, 'salary': 15000, 'department': 'Engineering - Front End'}\n",
      "{'first_name': 'Ryan', 'last_name': 'Schmitt', 'employee_id': 11523, 'salary': 35500, 'department': 'Engineering - Front End'}\n",
      "{'first_name': 'Heather', 'last_name': 'Shepard', 'employee_id': 12911, 'salary': 22500, 'department': 'Engineering - Front End'}\n",
      "{'first_name': 'Tanya', 'last_name': 'Mcclain', 'employee_id': 76, 'salary': 31000, 'department': 'Engineering - Front End'}\n",
      "{'first_name': 'Danielle', 'last_name': 'Russell', 'employee_id': 4655, 'salary': 15000, 'department': 'Engineering - Front End'}\n",
      "{'first_name': 'Ricky', 'last_name': 'Mason', 'employee_id': 9112, 'salary': 22000, 'department': 'Engineering - Front End'}\n",
      "{'first_name': 'Lacey', 'last_name': 'Lewis', 'employee_id': 4939, 'salary': 17500, 'department': 'Engineering - Front End'}\n",
      "{'first_name': 'Jason', 'last_name': 'Clark', 'employee_id': 14971, 'salary': 16500, 'department': 'Engineering - Front End'}\n",
      "{'first_name': 'Erin', 'last_name': 'Hughes', 'employee_id': 1476, 'salary': 25500, 'department': 'Engineering - Front End'}\n",
      "{'first_name': 'Jeremy', 'last_name': 'Long', 'employee_id': 843, 'salary': 34000, 'department': 'Engineering - Front End'}\n",
      "{'first_name': 'Ashley', 'last_name': 'White', 'employee_id': 16202, 'salary': 15000, 'department': 'Engineering - Front End'}\n",
      "{'first_name': 'Lisa', 'last_name': 'Martinez', 'employee_id': 12977, 'salary': 18500, 'department': 'Engineering - Front End'}\n",
      "{'first_name': 'Jeanette', 'last_name': 'Richards', 'employee_id': 4255, 'salary': 29000, 'department': 'Engineering - Front End'}\n",
      "{'first_name': 'Brenda', 'last_name': 'Thompson', 'employee_id': 19308, 'salary': 15000, 'department': 'Engineering - Front End'}\n",
      "{'first_name': 'Marie', 'last_name': 'Smith', 'employee_id': 6022, 'salary': 17000, 'department': 'Engineering - Front End'}\n",
      "{'first_name': 'Eric', 'last_name': 'Alvarado', 'employee_id': 9234, 'salary': 15000, 'department': 'Engineering - Front End'}\n",
      "{'first_name': 'John', 'last_name': 'Walls', 'employee_id': 8658, 'salary': 23000, 'department': 'Engineering - Front End'}\n",
      "{'first_name': 'Brandy', 'last_name': 'Ross', 'employee_id': 5538, 'salary': 32000, 'department': 'Engineering - Front End'}\n",
      "{'first_name': 'Bryce', 'last_name': 'Evans', 'employee_id': 5259, 'salary': 27500, 'department': 'Engineering - Front End'}\n",
      "{'first_name': 'Rhonda', 'last_name': 'Weaver', 'employee_id': 8039, 'salary': 15000, 'department': 'Engineering - Front End'}\n",
      "{'first_name': 'Jeffrey', 'last_name': 'Riley', 'employee_id': 5798, 'salary': 39000, 'department': 'Engineering - Front End'}\n",
      "{'first_name': 'Sarah', 'last_name': 'Allen', 'employee_id': 7113, 'salary': 37000, 'department': 'Engineering - Front End'}\n",
      "{'first_name': 'Alexander', 'last_name': 'Davis', 'employee_id': 3594, 'salary': 27500, 'department': 'Engineering - Front End'}\n",
      "{'first_name': 'Kimberly', 'last_name': 'Griffin', 'employee_id': 4236, 'salary': 25000, 'department': 'Engineering - Front End'}\n",
      "{'first_name': 'Cynthia', 'last_name': 'Moore', 'employee_id': 9185, 'salary': 21500, 'department': 'Engineering - Front End'}\n",
      "{'first_name': 'Travis', 'last_name': 'Garcia', 'employee_id': 14708, 'salary': 29500, 'department': 'Engineering - Front End'}\n",
      "{'first_name': 'Sharon', 'last_name': 'Scott', 'employee_id': 5838, 'salary': 26000, 'department': 'Engineering - Front End'}\n",
      "{'first_name': 'Edward', 'last_name': 'Vega', 'employee_id': 4154, 'salary': 32000, 'department': 'Engineering - Front End'}\n",
      "{'first_name': 'Beth', 'last_name': 'Mcdaniel', 'employee_id': 10777, 'salary': 34500, 'department': 'Engineering - Front End'}\n",
      "{'first_name': 'Matthew', 'last_name': 'Smith', 'employee_id': 2960, 'salary': 15500, 'department': 'Engineering - Front End'}\n",
      "{'first_name': 'Amber', 'last_name': 'Chandler', 'employee_id': 9609, 'salary': 26000, 'department': 'Engineering - Front End'}\n",
      "{'first_name': 'Heather', 'last_name': 'Hughes', 'employee_id': 16215, 'salary': 15000, 'department': 'Engineering - Front End'}\n",
      "{'first_name': 'Sheena', 'last_name': 'Cook', 'employee_id': 10747, 'salary': 15000, 'department': 'Engineering - Front End'}\n",
      "{'first_name': 'Rachel', 'last_name': 'Russell', 'employee_id': 14709, 'salary': 29000, 'department': 'Engineering - Front End'}\n",
      "{'first_name': 'Steven', 'last_name': 'Johnson', 'employee_id': 13650, 'salary': 15000, 'department': 'Engineering - Front End'}\n",
      "{'first_name': 'Micheal', 'last_name': 'Hubbard', 'employee_id': 509, 'salary': 37500, 'department': 'Engineering - Front End'}\n",
      "{'first_name': 'Alexis', 'last_name': 'Freeman', 'employee_id': 17550, 'salary': 15000, 'department': 'Engineering - Front End'}\n",
      "{'first_name': 'Erin', 'last_name': 'Duncan', 'employee_id': 1319, 'salary': 15500, 'department': 'Engineering - Front End'}\n",
      "{'first_name': 'Nichole', 'last_name': 'Johnson', 'employee_id': 17397, 'salary': 15000, 'department': 'Engineering - Front End'}\n",
      "{'first_name': 'Lori', 'last_name': 'Wilcox', 'employee_id': 10958, 'salary': 25000, 'department': 'Engineering - Front End'}\n",
      "{'first_name': 'Amanda', 'last_name': 'Lee', 'employee_id': 6945, 'salary': 15000, 'department': 'Engineering - Front End'}\n",
      "{'first_name': 'Richard', 'last_name': 'Bowman', 'employee_id': 15022, 'salary': 15000, 'department': 'Engineering - Front End'}\n",
      "{'first_name': 'Grace', 'last_name': 'Morgan', 'employee_id': 15829, 'salary': 15000, 'department': 'Engineering - Front End'}\n",
      "{'first_name': 'Michael', 'last_name': 'Wade', 'employee_id': 16547, 'salary': 22500, 'department': 'Engineering - Front End'}\n",
      "{'first_name': 'Melody', 'last_name': 'Mullen', 'employee_id': 7108, 'salary': 26500, 'department': 'Engineering - Front End'}\n",
      "{'first_name': 'Stephanie', 'last_name': 'Wong', 'employee_id': 12388, 'salary': 31000, 'department': 'Engineering - Front End'}\n",
      "{'first_name': 'Elizabeth', 'last_name': 'Alexander', 'employee_id': 11136, 'salary': 26000, 'department': 'Engineering - Front End'}\n",
      "{'first_name': 'Francisco', 'last_name': 'Garcia', 'employee_id': 17547, 'salary': 34000, 'department': 'Engineering - Front End'}\n",
      "{'first_name': 'Jared', 'last_name': 'Hicks', 'employee_id': 9204, 'salary': 15000, 'department': 'Engineering - Front End'}\n",
      "{'first_name': 'Kristen', 'last_name': 'May', 'employee_id': 17528, 'salary': 15000, 'department': 'Engineering - Front End'}\n",
      "{'first_name': 'Megan', 'last_name': 'Atkinson', 'employee_id': 10051, 'salary': 46000, 'department': 'Engineering - Front End'}\n",
      "{'first_name': 'Ashley', 'last_name': 'Pearson', 'employee_id': 17350, 'salary': 15000, 'department': 'Engineering - Front End'}\n",
      "{'first_name': 'Nicholas', 'last_name': 'Tate', 'employee_id': 18906, 'salary': 26000, 'department': 'Engineering - Front End'}\n",
      "{'first_name': 'Meghan', 'last_name': 'Brock', 'employee_id': 9599, 'salary': 22500, 'department': 'Engineering - Front End'}\n",
      "{'first_name': 'William', 'last_name': 'Holmes', 'employee_id': 2294, 'salary': 33500, 'department': 'Engineering - Front End'}\n",
      "{'first_name': 'Stanley', 'last_name': 'Henry', 'employee_id': 6284, 'salary': 24000, 'department': 'Engineering - Front End'}\n",
      "{'first_name': 'Yolanda', 'last_name': 'Miller', 'employee_id': 4433, 'salary': 21000, 'department': 'Engineering - Front End'}\n",
      "{'first_name': 'Stephanie', 'last_name': 'Mason', 'employee_id': 19171, 'salary': 18500, 'department': 'Engineering - Front End'}\n",
      "{'first_name': 'Shelly', 'last_name': 'Lee', 'employee_id': 3226, 'salary': 15000, 'department': 'Engineering - Front End'}\n"
     ]
    }
   ],
   "source": [
    "with open(\"employees.json\", \"r\") as infile:\n",
    "    employee_data = json.load(infile)\n",
    "    list =[]\n",
    "    for employee in employee_data:\n",
    "        if employee[\"department\"] == \"Engineering - Front End\":\n",
    "            print(employee)\n",
    "            list.append(employee)\n",
    "\n",
    "# print(new_dict[\"first_name\"])\n",
    "with open(\"employee.csv\", \"w\") as outfile:\n",
    "    header_names = ['first_name', 'last_name', 'department', 'salary', 'employee_id']\n",
    "    # header_names = employee_data.keys()\n",
    "    writer = csv.DictWriter(outfile, header_names)\n",
    "    writer.writeheader()\n",
    "    writer.writerows(list)"
   ]
  },
  {
   "cell_type": "code",
   "execution_count": 66,
   "metadata": {},
   "outputs": [],
   "source": [
    "with open(\"employees.json\", \"r\") as infile:\n",
    "    dept = input(\"enter dept\")\n",
    "    employee_data = json.load(infile)\n",
    "    updated_employee_data=[]\n",
    "    for employee in employee_data:\n",
    "        if employee[\"department\"] == dept:\n",
    "            # print(employee)\n",
    "            updated_employee_data.append(employee)\n",
    "\n",
    "# print(new_dict[\"first_name\"])\n",
    "with open(f\"employee_{dept}.csv\", \"w\") as outfile:\n",
    "    header_names = ['first_name', 'last_name', 'department', 'salary', 'employee_id']\n",
    "    # header_names = employee_data.keys()\n",
    "    writer = csv.DictWriter(outfile, header_names)\n",
    "    writer.writeheader()\n",
    "    writer.writerows(updated_employee_data)"
   ]
  },
  {
   "cell_type": "code",
   "execution_count": 71,
   "metadata": {},
   "outputs": [
    {
     "name": "stdout",
     "output_type": "stream",
     "text": [
      "{'Engineering - Front End', 'Marketing', 'Engineering - Back End', 'Customer Research'}\n"
     ]
    }
   ],
   "source": [
    "depts = []\n",
    "\n",
    "for employee in employee_data:\n",
    "    for i in range(len(employee)):\n",
    "        depts.append(employee_data[i][\"department\"])\n",
    "    # depts.append (employee_data[\"department\"])\n",
    "\n",
    "print(set(depts))"
   ]
  },
  {
   "cell_type": "code",
   "execution_count": null,
   "metadata": {},
   "outputs": [],
   "source": []
  }
 ],
 "metadata": {
  "kernelspec": {
   "display_name": ".venv",
   "language": "python",
   "name": "python3"
  },
  "language_info": {
   "codemirror_mode": {
    "name": "ipython",
    "version": 3
   },
   "file_extension": ".py",
   "mimetype": "text/x-python",
   "name": "python",
   "nbconvert_exporter": "python",
   "pygments_lexer": "ipython3",
   "version": "3.12.3"
  }
 },
 "nbformat": 4,
 "nbformat_minor": 2
}
