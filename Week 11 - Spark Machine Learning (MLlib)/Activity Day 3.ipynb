{
 "cells": [
  {
   "cell_type": "code",
   "execution_count": 1,
   "metadata": {},
   "outputs": [],
   "source": [
    "import os\n",
    "import sys\n",
    "\n",
    "os.environ[\"JAVA_HOME\"] = \"../.JDK 8\" \n",
    "os.environ[\"PYSPARK_PYTHON\"] = sys.executable\n",
    "os.environ[\"PYSPARK_DRIVER_PYTHON\"] = sys.executable"
   ]
  },
  {
   "cell_type": "code",
   "execution_count": 2,
   "metadata": {},
   "outputs": [],
   "source": [
    "import pandas as pd\n",
    "import matplotlib.pyplot as plt\n",
    "import seaborn as sns\n",
    "from pyspark.sql import SparkSession\n",
    "import pyspark.sql.functions as F\n",
    "import pyspark.sql.types as T\n",
    "from pyspark.ml.feature import VectorAssembler\n",
    "from pyspark.ml.regression import LinearRegression\n",
    "from pyspark.ml.evaluation import RegressionEvaluator"
   ]
  },
  {
   "cell_type": "code",
   "execution_count": 3,
   "metadata": {},
   "outputs": [],
   "source": [
    "from pyspark.sql import SparkSession\n",
    "from pyspark.sql.functions import udf\n",
    "import pyspark.sql.functions as F\n",
    "import pyspark.sql.types as T\n",
    "from pyspark.sql.types import IntegerType\n",
    "from pyspark.ml.feature import Tokenizer, StopWordsRemover, CountVectorizer, OneHotEncoder, VectorAssembler, StringIndexer, IDF,HashingTF\n",
    "from pyspark.ml.classification import LogisticRegression\n",
    "from pyspark.ml.regression import LinearRegression\n",
    "from pyspark.ml.evaluation import BinaryClassificationEvaluator, RegressionEvaluator\n",
    "from pyspark.ml import Pipeline\n",
    "from pyspark.ml.tuning import CrossValidator,TrainValidationSplit, ParamGridBuilder\n",
    "\n",
    "\n"
   ]
  },
  {
   "cell_type": "code",
   "execution_count": 4,
   "metadata": {},
   "outputs": [
    {
     "name": "stderr",
     "output_type": "stream",
     "text": [
      "25/02/22 15:43:19 WARN Utils: Your hostname, Mint-T470 resolves to a loopback address: 127.0.1.1; using 10.46.79.254 instead (on interface wlp4s0)\n",
      "25/02/22 15:43:19 WARN Utils: Set SPARK_LOCAL_IP if you need to bind to another address\n",
      "Setting default log level to \"WARN\".\n",
      "To adjust logging level use sc.setLogLevel(newLevel). For SparkR, use setLogLevel(newLevel).\n",
      "25/02/22 15:43:20 WARN NativeCodeLoader: Unable to load native-hadoop library for your platform... using builtin-java classes where applicable\n"
     ]
    },
    {
     "data": {
      "text/html": [
       "\n",
       "            <div>\n",
       "                <p><b>SparkSession - in-memory</b></p>\n",
       "                \n",
       "        <div>\n",
       "            <p><b>SparkContext</b></p>\n",
       "\n",
       "            <p><a href=\"http://10.46.79.254:4040\">Spark UI</a></p>\n",
       "\n",
       "            <dl>\n",
       "              <dt>Version</dt>\n",
       "                <dd><code>v3.5.4</code></dd>\n",
       "              <dt>Master</dt>\n",
       "                <dd><code>local[*]</code></dd>\n",
       "              <dt>AppName</dt>\n",
       "                <dd><code>credit_card_analysis</code></dd>\n",
       "            </dl>\n",
       "        </div>\n",
       "        \n",
       "            </div>\n",
       "        "
      ],
      "text/plain": [
       "<pyspark.sql.session.SparkSession at 0x7660f1700f50>"
      ]
     },
     "execution_count": 4,
     "metadata": {},
     "output_type": "execute_result"
    }
   ],
   "source": [
    "# Create a new Sparksession\n",
    "spark = SparkSession\\\n",
    "    .builder\\\n",
    "    .appName('credit_card_analysis')\\\n",
    "    .getOrCreate()\n",
    "    \n",
    "spark"
   ]
  },
  {
   "cell_type": "code",
   "execution_count": 59,
   "metadata": {},
   "outputs": [
    {
     "name": "stdout",
     "output_type": "stream",
     "text": [
      "+-------+------+---------+-------------+--------+-------------+--------------------+----------------+--------------+-----------------+--------------+-------------+------------+----------+-----+--------+---------------+--------------+\n",
      "| Ind_ID|GENDER|Car_Owner|Propert_Owner|CHILDREN|Annual_income|         Type_Income|       EDUCATION|Marital_status|     Housing_type|Birthday_count|Employed_days|Mobile_phone|Work_Phone|Phone|EMAIL_ID|Type_Occupation|Family_Members|\n",
      "+-------+------+---------+-------------+--------+-------------+--------------------+----------------+--------------+-----------------+--------------+-------------+------------+----------+-----+--------+---------------+--------------+\n",
      "|5008827|     M|        Y|            Y|       0|     180000.0|           Pensioner|Higher education|       Married|House / apartment|        -18772|       365243|           1|         0|    0|       0|           NULL|             2|\n",
      "|5009744|     F|        Y|            N|       0|     315000.0|Commercial associate|Higher education|       Married|House / apartment|        -13557|         -586|           1|         1|    1|       0|           NULL|             2|\n",
      "|5009746|     F|        Y|            N|       0|     315000.0|Commercial associate|Higher education|       Married|House / apartment|          NULL|         -586|           1|         1|    1|       0|           NULL|             2|\n",
      "|5009749|     F|        Y|            N|       0|         NULL|Commercial associate|Higher education|       Married|House / apartment|        -13557|         -586|           1|         1|    1|       0|           NULL|             2|\n",
      "|5009752|     F|        Y|            N|       0|     315000.0|Commercial associate|Higher education|       Married|House / apartment|        -13557|         -586|           1|         1|    1|       0|           NULL|             2|\n",
      "+-------+------+---------+-------------+--------+-------------+--------------------+----------------+--------------+-----------------+--------------+-------------+------------+----------+-----+--------+---------------+--------------+\n",
      "only showing top 5 rows\n",
      "\n"
     ]
    }
   ],
   "source": [
    "path = \"Credit_card.csv\"\n",
    "\n",
    "df = spark.read.csv(path, header=True, inferSchema=True)\n",
    "df.show(5)\n"
   ]
  },
  {
   "cell_type": "code",
   "execution_count": 60,
   "metadata": {},
   "outputs": [
    {
     "name": "stdout",
     "output_type": "stream",
     "text": [
      "+------+------+---------+-------------+--------+-------------+-----------+---------+--------------+------------+--------------+-------------+------------+----------+-----+--------+---------------+--------------+\n",
      "|Ind_ID|GENDER|Car_Owner|Propert_Owner|CHILDREN|Annual_income|Type_Income|EDUCATION|Marital_status|Housing_type|Birthday_count|Employed_days|Mobile_phone|Work_Phone|Phone|EMAIL_ID|Type_Occupation|Family_Members|\n",
      "+------+------+---------+-------------+--------+-------------+-----------+---------+--------------+------------+--------------+-------------+------------+----------+-----+--------+---------------+--------------+\n",
      "|     0|     7|        0|            0|       0|           23|          0|        0|             0|           0|            22|            0|           0|         0|    0|       0|            488|             0|\n",
      "+------+------+---------+-------------+--------+-------------+-----------+---------+--------------+------------+--------------+-------------+------------+----------+-----+--------+---------------+--------------+\n",
      "\n"
     ]
    }
   ],
   "source": [
    "null_count = df.select([F.sum(F.col(c).isNull().cast(\"int\")).alias(c) for c in df.columns])\n",
    "null_count.show()\n"
   ]
  },
  {
   "cell_type": "markdown",
   "metadata": {},
   "source": [
    "NULL Occupation have been converted to N/A so that I can perserve data "
   ]
  },
  {
   "cell_type": "code",
   "execution_count": 61,
   "metadata": {},
   "outputs": [],
   "source": [
    "df = df.na.fill(value=\"N/A\",subset=[\"Type_Occupation\"])\n"
   ]
  },
  {
   "cell_type": "code",
   "execution_count": 62,
   "metadata": {},
   "outputs": [],
   "source": [
    "df = df.na.drop()"
   ]
  },
  {
   "cell_type": "code",
   "execution_count": 63,
   "metadata": {},
   "outputs": [],
   "source": [
    "categorical_features = ['GENDER', 'Car_Owner', 'Propert_Owner', 'Type_Income', 'EDUCATION', 'Marital_status', 'Housing_type', 'Type_Occupation', 'Family_Members']\n",
    "\n",
    "numeric_features = ['CHILDREN', 'Annual_income','Birthday_count', 'Employed_days']\n",
    "\n",
    "drop_columns = ['Mobile_phone', 'Work_Phone', 'Phone', 'EMAIL_ID', 'Ind_ID']"
   ]
  },
  {
   "cell_type": "code",
   "execution_count": 64,
   "metadata": {},
   "outputs": [],
   "source": [
    "df = df.drop(*drop_columns)"
   ]
  },
  {
   "cell_type": "code",
   "execution_count": 65,
   "metadata": {},
   "outputs": [],
   "source": [
    "stages = []\n",
    "\n",
    "for cat_feature in categorical_features:\n",
    "    string_indexer = StringIndexer(inputCol = cat_feature,\n",
    "                                    outputCol = f\"{cat_feature}Index\")\n",
    "    encoder = OneHotEncoder(inputCol=f\"{cat_feature}Index\",\n",
    "                            outputCol=f\"{cat_feature}Vector\")\n",
    "    stages+= [string_indexer, encoder]"
   ]
  },
  {
   "cell_type": "code",
   "execution_count": 66,
   "metadata": {},
   "outputs": [],
   "source": [
    "all_features = numeric_features + [f\"{cat}Vector\" for cat in categorical_features]\n",
    "\n",
    "assembler = VectorAssembler(inputCols=all_features,\n",
    "                            outputCol=\"features\")\n",
    "\n",
    "stages += [assembler]"
   ]
  },
  {
   "cell_type": "code",
   "execution_count": 67,
   "metadata": {},
   "outputs": [],
   "source": [
    "pipeline = Pipeline(stages=stages)\n"
   ]
  },
  {
   "cell_type": "code",
   "execution_count": 68,
   "metadata": {},
   "outputs": [
    {
     "name": "stdout",
     "output_type": "stream",
     "text": [
      "+------+---------+-------------+--------+-------------+--------------------+--------------------+--------------+-----------------+--------------+-------------+---------------+--------------+-----------+-------------+--------------+---------------+------------------+-------------------+----------------+-----------------+--------------+---------------+-------------------+--------------------+-----------------+------------------+--------------------+---------------------+-------------------+--------------------+--------------------+\n",
      "|GENDER|Car_Owner|Propert_Owner|CHILDREN|Annual_income|         Type_Income|           EDUCATION|Marital_status|     Housing_type|Birthday_count|Employed_days|Type_Occupation|Family_Members|GENDERIndex| GENDERVector|Car_OwnerIndex|Car_OwnerVector|Propert_OwnerIndex|Propert_OwnerVector|Type_IncomeIndex|Type_IncomeVector|EDUCATIONIndex|EDUCATIONVector|Marital_statusIndex|Marital_statusVector|Housing_typeIndex|Housing_typeVector|Type_OccupationIndex|Type_OccupationVector|Family_MembersIndex|Family_MembersVector|            features|\n",
      "+------+---------+-------------+--------+-------------+--------------------+--------------------+--------------+-----------------+--------------+-------------+---------------+--------------+-----------+-------------+--------------+---------------+------------------+-------------------+----------------+-----------------+--------------+---------------+-------------------+--------------------+-----------------+------------------+--------------------+---------------------+-------------------+--------------------+--------------------+\n",
      "|     M|        Y|            Y|       0|     180000.0|           Pensioner|    Higher education|       Married|House / apartment|        -18772|       365243|            N/A|             2|        1.0|    (1,[],[])|           1.0|      (1,[],[])|               0.0|      (1,[0],[1.0])|             2.0|    (3,[2],[1.0])|           1.0|  (4,[1],[1.0])|                0.0|       (4,[0],[1.0])|              0.0|     (5,[0],[1.0])|                 0.0|       (18,[0],[1.0])|                0.0|       (6,[0],[1.0])|(47,[1,2,3,6,9,11...|\n",
      "|     F|        Y|            N|       0|     315000.0|Commercial associate|    Higher education|       Married|House / apartment|        -13557|         -586|            N/A|             2|        0.0|(1,[0],[1.0])|           1.0|      (1,[],[])|               1.0|          (1,[],[])|             1.0|    (3,[1],[1.0])|           1.0|  (4,[1],[1.0])|                0.0|       (4,[0],[1.0])|              0.0|     (5,[0],[1.0])|                 0.0|       (18,[0],[1.0])|                0.0|       (6,[0],[1.0])|(47,[1,2,3,4,8,11...|\n",
      "|     F|        Y|            N|       0|     315000.0|Commercial associate|    Higher education|       Married|House / apartment|        -13557|         -586|            N/A|             2|        0.0|(1,[0],[1.0])|           1.0|      (1,[],[])|               1.0|          (1,[],[])|             1.0|    (3,[1],[1.0])|           1.0|  (4,[1],[1.0])|                0.0|       (4,[0],[1.0])|              0.0|     (5,[0],[1.0])|                 0.0|       (18,[0],[1.0])|                0.0|       (6,[0],[1.0])|(47,[1,2,3,4,8,11...|\n",
      "|     F|        Y|            N|       0|     315000.0|Commercial associate|    Higher education|       Married|House / apartment|        -13557|         -586|            N/A|             2|        0.0|(1,[0],[1.0])|           1.0|      (1,[],[])|               1.0|          (1,[],[])|             1.0|    (3,[1],[1.0])|           1.0|  (4,[1],[1.0])|                0.0|       (4,[0],[1.0])|              0.0|     (5,[0],[1.0])|                 0.0|       (18,[0],[1.0])|                0.0|       (6,[0],[1.0])|(47,[1,2,3,4,8,11...|\n",
      "|     F|        N|            N|       0|     180000.0|           Pensioner|Secondary / secon...|       Married|House / apartment|        -22134|       365243|            N/A|             2|        0.0|(1,[0],[1.0])|           0.0|  (1,[0],[1.0])|               1.0|          (1,[],[])|             2.0|    (3,[2],[1.0])|           0.0|  (4,[0],[1.0])|                0.0|       (4,[0],[1.0])|              0.0|     (5,[0],[1.0])|                 0.0|       (18,[0],[1.0])|                0.0|       (6,[0],[1.0])|(47,[1,2,3,4,5,9,...|\n",
      "+------+---------+-------------+--------+-------------+--------------------+--------------------+--------------+-----------------+--------------+-------------+---------------+--------------+-----------+-------------+--------------+---------------+------------------+-------------------+----------------+-----------------+--------------+---------------+-------------------+--------------------+-----------------+------------------+--------------------+---------------------+-------------------+--------------------+--------------------+\n",
      "only showing top 5 rows\n",
      "\n"
     ]
    }
   ],
   "source": [
    "transformed_data = pipeline.fit(df).transform(df)\n",
    "\n",
    "transformed_data.show(5)"
   ]
  },
  {
   "cell_type": "code",
   "execution_count": 69,
   "metadata": {},
   "outputs": [
    {
     "name": "stdout",
     "output_type": "stream",
     "text": [
      "+--------------------+-------------+\n",
      "|            features|Annual_income|\n",
      "+--------------------+-------------+\n",
      "|(47,[1,2,3,6,9,11...|     180000.0|\n",
      "|(47,[1,2,3,4,8,11...|     315000.0|\n",
      "|(47,[1,2,3,4,8,11...|     315000.0|\n",
      "|(47,[1,2,3,4,8,11...|     315000.0|\n",
      "|(47,[1,2,3,4,5,9,...|     180000.0|\n",
      "|(47,[0,1,2,3,6,8,...|     450000.0|\n",
      "|(47,[0,1,2,3,6,9,...|     450000.0|\n",
      "|(47,[0,1,2,3,6,8,...|     450000.0|\n",
      "|(47,[1,2,3,4,6,7,...|      90000.0|\n",
      "|(47,[1,2,3,4,6,7,...|      90000.0|\n",
      "|(47,[0,1,2,3,5,9,...|     472500.0|\n",
      "|(47,[1,2,3,5,6,7,...|     270000.0|\n",
      "|(47,[1,2,3,5,6,7,...|     270000.0|\n",
      "|(47,[1,2,3,4,5,6,...|     126000.0|\n",
      "|(47,[1,2,3,4,5,6,...|     126000.0|\n",
      "|(47,[1,2,3,5,6,9,...|      90000.0|\n",
      "|(47,[1,2,3,5,7,11...|     202500.0|\n",
      "|(47,[1,2,3,6,8,10...|     202500.0|\n",
      "|(47,[1,2,3,5,6,8,...|     157500.0|\n",
      "|(47,[0,1,2,3,4,5,...|     112500.0|\n",
      "+--------------------+-------------+\n",
      "only showing top 20 rows\n",
      "\n"
     ]
    }
   ],
   "source": [
    "final_data = transformed_data.select(\"features\", \"Annual_income\")\n",
    "final_data.show()\n"
   ]
  },
  {
   "cell_type": "code",
   "execution_count": 70,
   "metadata": {},
   "outputs": [],
   "source": [
    "train_data, test_data = final_data.randomSplit([0.8, 0.2], seed=42)"
   ]
  },
  {
   "cell_type": "code",
   "execution_count": 71,
   "metadata": {},
   "outputs": [
    {
     "name": "stderr",
     "output_type": "stream",
     "text": [
      "25/02/22 16:24:10 WARN Instrumentation: [eaab03a5] regParam is zero, which might cause numerical instability and overfitting.\n",
      "25/02/22 16:24:10 WARN Instrumentation: [eaab03a5] Cholesky solver failed due to singular covariance matrix. Retrying with Quasi-Newton solver.\n"
     ]
    }
   ],
   "source": [
    "linear_reg = LinearRegression(featuresCol=\"features\",\n",
    "                              labelCol=\"Annual_income\")\n",
    "\n",
    "lr_model = linear_reg.fit(train_data)\n",
    "\n",
    "\n"
   ]
  },
  {
   "cell_type": "code",
   "execution_count": 72,
   "metadata": {},
   "outputs": [
    {
     "name": "stdout",
     "output_type": "stream",
     "text": [
      "+-------------+------------------+\n",
      "|Annual_income|        prediction|\n",
      "+-------------+------------------+\n",
      "|     166500.0|166482.44809553307|\n",
      "|     108000.0|107997.37562342436|\n",
      "|     157500.0| 157499.5651360177|\n",
      "|     270000.0| 269986.7398159321|\n",
      "|     108000.0| 108005.4538816721|\n",
      "|     126000.0|  126009.319571566|\n",
      "|     144000.0|143994.86988744364|\n",
      "|     225000.0|225008.38456975084|\n",
      "|     135000.0|135001.56093459693|\n",
      "|      54000.0|54018.335736256246|\n",
      "+-------------+------------------+\n",
      "only showing top 10 rows\n",
      "\n"
     ]
    }
   ],
   "source": [
    "linear_pred = lr_model.transform(test_data)\n",
    "# linear_pred.show(10)\n",
    "linear_pred.select(\"Annual_income\", \"prediction\").show(10)"
   ]
  },
  {
   "cell_type": "code",
   "execution_count": 73,
   "metadata": {},
   "outputs": [
    {
     "name": "stdout",
     "output_type": "stream",
     "text": [
      "The coefficient of determination: 0.9999997427469859\n"
     ]
    }
   ],
   "source": [
    "linear_evaluator_r2 = RegressionEvaluator(labelCol=\"Annual_income\",\n",
    "                                       predictionCol=\"prediction\",\n",
    "                                       metricName=\"r2\")\n",
    "\n",
    "linear_r2 = linear_evaluator_r2.evaluate(linear_pred)\n",
    "\n",
    "print(f\"The coefficient of determination: {linear_r2}\")"
   ]
  },
  {
   "cell_type": "code",
   "execution_count": 74,
   "metadata": {},
   "outputs": [
    {
     "name": "stdout",
     "output_type": "stream",
     "text": [
      "The root mean square error is: 47.19082566540446\n"
     ]
    }
   ],
   "source": [
    "linear_evaluator_rmse = RegressionEvaluator(labelCol=\"Annual_income\",\n",
    "                                       predictionCol=\"prediction\",\n",
    "                                       metricName=\"rmse\")\n",
    "\n",
    "linear_rmse = linear_evaluator_rmse.evaluate(linear_pred)\n",
    "\n",
    "print(f\"The root mean square error is: {linear_rmse}\")"
   ]
  },
  {
   "cell_type": "markdown",
   "metadata": {},
   "source": [
    "The root mean square error is: 64.76089197606947\n",
    "The coefficient of determination: 0.9999996562457443\n",
    "\n",
    "with ind_ID\n"
   ]
  },
  {
   "cell_type": "code",
   "execution_count": 77,
   "metadata": {},
   "outputs": [
    {
     "name": "stdout",
     "output_type": "stream",
     "text": [
      "max income: 1575000.0 min income 33750.0\n",
      "range income 1541250.0\n"
     ]
    }
   ],
   "source": [
    "max_income = df.agg(F.max(\"Annual_income\")).collect()[0][0]\n",
    "min_income = df.agg(F.min(\"Annual_income\")).collect()[0][0]\n",
    "\n",
    "range_income = max_income - min_income\n",
    "\n",
    "print(\"max income:\", max_income, \n",
    "      \"min income\", min_income)\n",
    "print(\"range income\", range_income)"
   ]
  },
  {
   "cell_type": "code",
   "execution_count": 76,
   "metadata": {},
   "outputs": [
    {
     "name": "stdout",
     "output_type": "stream",
     "text": [
      "+------+---------+-------------+--------+-------------+--------------------+--------------------+--------------------+-----------------+--------------+-------------+---------------+--------------+----------------------------+\n",
      "|GENDER|Car_Owner|Propert_Owner|CHILDREN|Annual_income|         Type_Income|           EDUCATION|      Marital_status|     Housing_type|Birthday_count|Employed_days|Type_Occupation|Family_Members|Annual_income/Family_Members|\n",
      "+------+---------+-------------+--------+-------------+--------------------+--------------------+--------------------+-----------------+--------------+-------------+---------------+--------------+----------------------------+\n",
      "|     M|        Y|            Y|       0|     180000.0|           Pensioner|    Higher education|             Married|House / apartment|        -18772|       365243|            N/A|             2|                     90000.0|\n",
      "|     F|        Y|            N|       0|     315000.0|Commercial associate|    Higher education|             Married|House / apartment|        -13557|         -586|            N/A|             2|                    157500.0|\n",
      "|     F|        Y|            N|       0|     315000.0|Commercial associate|    Higher education|             Married|House / apartment|        -13557|         -586|            N/A|             2|                    157500.0|\n",
      "|     F|        Y|            N|       0|     315000.0|Commercial associate|    Higher education|             Married|House / apartment|        -13557|         -586|            N/A|             2|                    157500.0|\n",
      "|     F|        N|            N|       0|     180000.0|           Pensioner|Secondary / secon...|             Married|House / apartment|        -22134|       365243|            N/A|             2|                     90000.0|\n",
      "|     M|        Y|            Y|       1|     450000.0|Commercial associate|Secondary / secon...|             Married|House / apartment|        -18173|         -678|     Core staff|             3|                    150000.0|\n",
      "|     M|        Y|            Y|       1|     450000.0|           Pensioner|Secondary / secon...|             Married|House / apartment|        -18173|         -678|     Core staff|             3|                    150000.0|\n",
      "|     M|        Y|            Y|       1|     450000.0|Commercial associate|Secondary / secon...|Single / not married|House / apartment|        -18173|         -678|     Core staff|             1|                    450000.0|\n",
      "|     F|        Y|            Y|       0|      90000.0|             Working|Secondary / secon...|             Married|House / apartment|        -18950|        -1002|  Cooking staff|             2|                     45000.0|\n",
      "|     F|        Y|            Y|       0|      90000.0|             Working|Secondary / secon...|             Married|House / apartment|        -18950|        -1002|  Cooking staff|             2|                     45000.0|\n",
      "|     M|        N|            N|       1|     472500.0|           Pensioner|    Higher education|             Married|     With parents|         -8907|         -913|            N/A|             3|                    157500.0|\n",
      "|     M|        N|            Y|       0|     270000.0|             Working|Secondary / secon...|             Married|House / apartment|        -16896|         -248|       Laborers|             2|                    135000.0|\n",
      "|     M|        N|            Y|       0|     270000.0|             Working|Secondary / secon...|Single / not married|House / apartment|        -16896|         -248|       Laborers|             2|                    135000.0|\n",
      "|     F|        N|            Y|       0|     126000.0|Commercial associate|    Higher education|Single / not married|House / apartment|        -18907|        -2470|    Sales staff|             1|                    126000.0|\n",
      "|     F|        N|            Y|       0|     126000.0|Commercial associate|    Higher education|Single / not married|House / apartment|        -18907|        -2470|    Sales staff|             1|                    126000.0|\n",
      "|     M|        N|            Y|       0|      90000.0|           Pensioner|Secondary / secon...|             Married|House / apartment|        -18863|        -1644|            N/A|             2|                     45000.0|\n",
      "|     M|        N|            N|       0|     202500.0|             Working|    Higher education|Single / not married|House / apartment|        -12811|        -4327|            N/A|             1|                    202500.0|\n",
      "|     M|        Y|            Y|       0|     202500.0|Commercial associate|Secondary / secon...|      Civil marriage|House / apartment|        -12022|        -1674|       Laborers|             2|                    101250.0|\n",
      "|     M|        N|            Y|       0|     157500.0|Commercial associate|    Higher education|      Civil marriage|House / apartment|        -17800|        -1086|    Accountants|             2|                     78750.0|\n",
      "|     F|        N|            Y|       2|     112500.0|Commercial associate|Secondary / secon...|             Married|House / apartment|        -12135|         -925|    Sales staff|             4|                     28125.0|\n",
      "+------+---------+-------------+--------+-------------+--------------------+--------------------+--------------------+-----------------+--------------+-------------+---------------+--------------+----------------------------+\n",
      "only showing top 20 rows\n",
      "\n"
     ]
    }
   ],
   "source": [
    "df.withColumn(\"Annual_income/Family_Members\", (F.col(\"Annual_income\")/F.col(\"Family_Members\"))).show()"
   ]
  },
  {
   "cell_type": "code",
   "execution_count": null,
   "metadata": {},
   "outputs": [],
   "source": []
  }
 ],
 "metadata": {
  "kernelspec": {
   "display_name": ".venv",
   "language": "python",
   "name": "python3"
  },
  "language_info": {
   "codemirror_mode": {
    "name": "ipython",
    "version": 3
   },
   "file_extension": ".py",
   "mimetype": "text/x-python",
   "name": "python",
   "nbconvert_exporter": "python",
   "pygments_lexer": "ipython3",
   "version": "3.11.0"
  }
 },
 "nbformat": 4,
 "nbformat_minor": 2
}
